{
  "cells": [
    {
      "cell_type": "markdown",
      "metadata": {
        "id": "AfUaIuduCdGv"
      },
      "source": [
        "## Initialization"
      ]
    },
    {
      "cell_type": "markdown",
      "metadata": {
        "id": "oS3n9vrJCf-P"
      },
      "source": [
        "### Importing Libraries"
      ]
    },
    {
      "cell_type": "code",
      "execution_count": 1,
      "metadata": {
        "id": "w228NzhDjjCh"
      },
      "outputs": [],
      "source": [
        "import pandas as pd\n",
        "import numpy as np\n",
        "\n",
        "# Visualization\n",
        "import matplotlib.pyplot as plt\n",
        "import seaborn as sns\n",
        "\n",
        "# to use the same matplotlib backend as Jupyter uses, so any GUI will shown\n",
        "%matplotlib inline\n",
        "\n",
        "# Feature Engineering\n",
        "from sklearn.preprocessing import MinMaxScaler\n",
        "from sklearn.model_selection import train_test_split\n",
        "\n",
        "# Imbalance Dataset\n",
        "from imblearn.over_sampling import SMOTE\n",
        "\n",
        "# Modeling\n",
        "from sklearn.linear_model import LogisticRegression\n",
        "from sklearn.tree import DecisionTreeClassifier\n",
        "# from sklearn.metrics import classification_report #, confusion_matrix\n",
        "from sklearn.ensemble import RandomForestClassifier\n",
        "from xgboost import XGBClassifier\n",
        "\n",
        "# Evaluate\n",
        "from sklearn.metrics import accuracy_score, precision_score, recall_score, f1_score"
      ]
    },
    {
      "cell_type": "markdown",
      "metadata": {
        "id": "n5wVkWebRMU-"
      },
      "source": [
        "### User-defined Functions"
      ]
    },
    {
      "cell_type": "code",
      "execution_count": 2,
      "metadata": {
        "id": "v2U9nO-lROhX"
      },
      "outputs": [],
      "source": [
        "def val_count(data:pd.Series, orderby:str='Count', ascending:bool=False) -> pd.DataFrame:\n",
        "    '''\n",
        "    Return a DataFrame containing counts of unique rows in Series\n",
        "\n",
        "    Parameters\n",
        "    ----------\n",
        "    data: Series\n",
        "        the data to be displayed value counts\n",
        "    orderby: str (Count or Values)\n",
        "        how to order the data, default Count\n",
        "    ascending: bool (default: False)\n",
        "        True for ascending, False for descending\n",
        "\n",
        "    Returns\n",
        "    ------\n",
        "    DataFrame\n",
        "        - Values : Values name\n",
        "        - Count : Count per value\n",
        "        - % : Percentage of count\n",
        "    '''\n",
        "    if type(data) == pd.Series:\n",
        "        result = data.value_counts(dropna=False).reset_index() # without drop\n",
        "        result.columns = ['Values', 'Count']\n",
        "        result['%'] = np.around(result['Count'] * 100/len(data), 3)\n",
        "        return result.sort_values(by=orderby, ascending=ascending)\n",
        "    else:\n",
        "        return 'Input Series only'"
      ]
    },
    {
      "cell_type": "code",
      "execution_count": 3,
      "metadata": {
        "id": "hjBJ6EONmdxI"
      },
      "outputs": [],
      "source": [
        "def numerical_summary(data: pd.Series, n: int = 3) -> pd.Series:\n",
        "    '''\n",
        "    Statistics summary for numerical data.\n",
        "\n",
        "    Parameters\n",
        "    ----------\n",
        "    data : pandas series\n",
        "        the data to be displayed in summary\n",
        "    n : int, optional\n",
        "        determine the number after the comma of the result\n",
        "    '''\n",
        "\n",
        "    # central tendency: mean, median\n",
        "    mean = np.mean(data)\n",
        "    median = np.median(data)\n",
        "\n",
        "    # # distribution: std, min, max, range, skew, kurtosis\n",
        "    std = np.std(data)\n",
        "    min_value = np.min(data)\n",
        "    max_value = np.max(data)\n",
        "    range_value = np.abs(max_value - min_value)\n",
        "    skewness = data.skew()\n",
        "    kurtosis = data.kurtosis()\n",
        "\n",
        "    # # concatenates\n",
        "    result = pd.Series([min_value, max_value, range_value, mean, median, std, skewness, kurtosis])\n",
        "    result.index = ['min','max', 'range','mean','median',  'std','skewness','kurtosis']\n",
        "\n",
        "    return np.around(result, n)\n",
        "    # return mean"
      ]
    },
    {
      "cell_type": "markdown",
      "metadata": {
        "id": "CUcNxEYpCiXx"
      },
      "source": [
        "## Data Collecting"
      ]
    },
    {
      "cell_type": "code",
      "execution_count": 4,
      "metadata": {
        "colab": {
          "base_uri": "https://localhost:8080/",
          "height": 424
        },
        "id": "9qZtBvP8sbzp",
        "outputId": "aafe3a5f-1c9c-4a32-bc24-8d223a23dea0"
      },
      "outputs": [
        {
          "data": {
            "text/html": [
              "\n",
              "\n",
              "  <div id=\"df-ee52c1f7-48db-45fc-af03-a52216ba12c9\">\n",
              "    <div class=\"colab-df-container\">\n",
              "      <div>\n",
              "<style scoped>\n",
              "    .dataframe tbody tr th:only-of-type {\n",
              "        vertical-align: middle;\n",
              "    }\n",
              "\n",
              "    .dataframe tbody tr th {\n",
              "        vertical-align: top;\n",
              "    }\n",
              "\n",
              "    .dataframe thead th {\n",
              "        text-align: right;\n",
              "    }\n",
              "</style>\n",
              "<table border=\"1\" class=\"dataframe\">\n",
              "  <thead>\n",
              "    <tr style=\"text-align: right;\">\n",
              "      <th></th>\n",
              "      <th>ID</th>\n",
              "      <th>No_Pation</th>\n",
              "      <th>Gender</th>\n",
              "      <th>AGE</th>\n",
              "      <th>Urea</th>\n",
              "      <th>Cr</th>\n",
              "      <th>HbA1c</th>\n",
              "      <th>Chol</th>\n",
              "      <th>TG</th>\n",
              "      <th>HDL</th>\n",
              "      <th>LDL</th>\n",
              "      <th>VLDL</th>\n",
              "      <th>BMI</th>\n",
              "      <th>CLASS</th>\n",
              "    </tr>\n",
              "  </thead>\n",
              "  <tbody>\n",
              "    <tr>\n",
              "      <th>0</th>\n",
              "      <td>502</td>\n",
              "      <td>17975</td>\n",
              "      <td>F</td>\n",
              "      <td>50</td>\n",
              "      <td>4.7</td>\n",
              "      <td>46</td>\n",
              "      <td>4.9</td>\n",
              "      <td>4.2</td>\n",
              "      <td>0.9</td>\n",
              "      <td>2.4</td>\n",
              "      <td>1.4</td>\n",
              "      <td>0.5</td>\n",
              "      <td>24.0</td>\n",
              "      <td>N</td>\n",
              "    </tr>\n",
              "    <tr>\n",
              "      <th>1</th>\n",
              "      <td>735</td>\n",
              "      <td>34221</td>\n",
              "      <td>M</td>\n",
              "      <td>26</td>\n",
              "      <td>4.5</td>\n",
              "      <td>62</td>\n",
              "      <td>4.9</td>\n",
              "      <td>3.7</td>\n",
              "      <td>1.4</td>\n",
              "      <td>1.1</td>\n",
              "      <td>2.1</td>\n",
              "      <td>0.6</td>\n",
              "      <td>23.0</td>\n",
              "      <td>N</td>\n",
              "    </tr>\n",
              "    <tr>\n",
              "      <th>2</th>\n",
              "      <td>420</td>\n",
              "      <td>47975</td>\n",
              "      <td>F</td>\n",
              "      <td>50</td>\n",
              "      <td>4.7</td>\n",
              "      <td>46</td>\n",
              "      <td>4.9</td>\n",
              "      <td>4.2</td>\n",
              "      <td>0.9</td>\n",
              "      <td>2.4</td>\n",
              "      <td>1.4</td>\n",
              "      <td>0.5</td>\n",
              "      <td>24.0</td>\n",
              "      <td>N</td>\n",
              "    </tr>\n",
              "    <tr>\n",
              "      <th>3</th>\n",
              "      <td>680</td>\n",
              "      <td>87656</td>\n",
              "      <td>F</td>\n",
              "      <td>50</td>\n",
              "      <td>4.7</td>\n",
              "      <td>46</td>\n",
              "      <td>4.9</td>\n",
              "      <td>4.2</td>\n",
              "      <td>0.9</td>\n",
              "      <td>2.4</td>\n",
              "      <td>1.4</td>\n",
              "      <td>0.5</td>\n",
              "      <td>24.0</td>\n",
              "      <td>N</td>\n",
              "    </tr>\n",
              "    <tr>\n",
              "      <th>4</th>\n",
              "      <td>504</td>\n",
              "      <td>34223</td>\n",
              "      <td>M</td>\n",
              "      <td>33</td>\n",
              "      <td>7.1</td>\n",
              "      <td>46</td>\n",
              "      <td>4.9</td>\n",
              "      <td>4.9</td>\n",
              "      <td>1.0</td>\n",
              "      <td>0.8</td>\n",
              "      <td>2.0</td>\n",
              "      <td>0.4</td>\n",
              "      <td>21.0</td>\n",
              "      <td>N</td>\n",
              "    </tr>\n",
              "    <tr>\n",
              "      <th>...</th>\n",
              "      <td>...</td>\n",
              "      <td>...</td>\n",
              "      <td>...</td>\n",
              "      <td>...</td>\n",
              "      <td>...</td>\n",
              "      <td>...</td>\n",
              "      <td>...</td>\n",
              "      <td>...</td>\n",
              "      <td>...</td>\n",
              "      <td>...</td>\n",
              "      <td>...</td>\n",
              "      <td>...</td>\n",
              "      <td>...</td>\n",
              "      <td>...</td>\n",
              "    </tr>\n",
              "    <tr>\n",
              "      <th>995</th>\n",
              "      <td>200</td>\n",
              "      <td>454317</td>\n",
              "      <td>M</td>\n",
              "      <td>71</td>\n",
              "      <td>11.0</td>\n",
              "      <td>97</td>\n",
              "      <td>7.0</td>\n",
              "      <td>7.5</td>\n",
              "      <td>1.7</td>\n",
              "      <td>1.2</td>\n",
              "      <td>1.8</td>\n",
              "      <td>0.6</td>\n",
              "      <td>30.0</td>\n",
              "      <td>Y</td>\n",
              "    </tr>\n",
              "    <tr>\n",
              "      <th>996</th>\n",
              "      <td>671</td>\n",
              "      <td>876534</td>\n",
              "      <td>M</td>\n",
              "      <td>31</td>\n",
              "      <td>3.0</td>\n",
              "      <td>60</td>\n",
              "      <td>12.3</td>\n",
              "      <td>4.1</td>\n",
              "      <td>2.2</td>\n",
              "      <td>0.7</td>\n",
              "      <td>2.4</td>\n",
              "      <td>15.4</td>\n",
              "      <td>37.2</td>\n",
              "      <td>Y</td>\n",
              "    </tr>\n",
              "    <tr>\n",
              "      <th>997</th>\n",
              "      <td>669</td>\n",
              "      <td>87654</td>\n",
              "      <td>M</td>\n",
              "      <td>30</td>\n",
              "      <td>7.1</td>\n",
              "      <td>81</td>\n",
              "      <td>6.7</td>\n",
              "      <td>4.1</td>\n",
              "      <td>1.1</td>\n",
              "      <td>1.2</td>\n",
              "      <td>2.4</td>\n",
              "      <td>8.1</td>\n",
              "      <td>27.4</td>\n",
              "      <td>Y</td>\n",
              "    </tr>\n",
              "    <tr>\n",
              "      <th>998</th>\n",
              "      <td>99</td>\n",
              "      <td>24004</td>\n",
              "      <td>M</td>\n",
              "      <td>38</td>\n",
              "      <td>5.8</td>\n",
              "      <td>59</td>\n",
              "      <td>6.7</td>\n",
              "      <td>5.3</td>\n",
              "      <td>2.0</td>\n",
              "      <td>1.6</td>\n",
              "      <td>2.9</td>\n",
              "      <td>14.0</td>\n",
              "      <td>40.5</td>\n",
              "      <td>Y</td>\n",
              "    </tr>\n",
              "    <tr>\n",
              "      <th>999</th>\n",
              "      <td>248</td>\n",
              "      <td>24054</td>\n",
              "      <td>M</td>\n",
              "      <td>54</td>\n",
              "      <td>5.0</td>\n",
              "      <td>67</td>\n",
              "      <td>6.9</td>\n",
              "      <td>3.8</td>\n",
              "      <td>1.7</td>\n",
              "      <td>1.1</td>\n",
              "      <td>3.0</td>\n",
              "      <td>0.7</td>\n",
              "      <td>33.0</td>\n",
              "      <td>Y</td>\n",
              "    </tr>\n",
              "  </tbody>\n",
              "</table>\n",
              "<p>1000 rows × 14 columns</p>\n",
              "</div>\n",
              "      <button class=\"colab-df-convert\" onclick=\"convertToInteractive('df-ee52c1f7-48db-45fc-af03-a52216ba12c9')\"\n",
              "              title=\"Convert this dataframe to an interactive table.\"\n",
              "              style=\"display:none;\">\n",
              "\n",
              "  <svg xmlns=\"http://www.w3.org/2000/svg\" height=\"24px\"viewBox=\"0 0 24 24\"\n",
              "       width=\"24px\">\n",
              "    <path d=\"M0 0h24v24H0V0z\" fill=\"none\"/>\n",
              "    <path d=\"M18.56 5.44l.94 2.06.94-2.06 2.06-.94-2.06-.94-.94-2.06-.94 2.06-2.06.94zm-11 1L8.5 8.5l.94-2.06 2.06-.94-2.06-.94L8.5 2.5l-.94 2.06-2.06.94zm10 10l.94 2.06.94-2.06 2.06-.94-2.06-.94-.94-2.06-.94 2.06-2.06.94z\"/><path d=\"M17.41 7.96l-1.37-1.37c-.4-.4-.92-.59-1.43-.59-.52 0-1.04.2-1.43.59L10.3 9.45l-7.72 7.72c-.78.78-.78 2.05 0 2.83L4 21.41c.39.39.9.59 1.41.59.51 0 1.02-.2 1.41-.59l7.78-7.78 2.81-2.81c.8-.78.8-2.07 0-2.86zM5.41 20L4 18.59l7.72-7.72 1.47 1.35L5.41 20z\"/>\n",
              "  </svg>\n",
              "      </button>\n",
              "\n",
              "\n",
              "\n",
              "    <div id=\"df-a4e67db6-d44d-4187-8784-eacb5c0c9381\">\n",
              "      <button class=\"colab-df-quickchart\" onclick=\"quickchart('df-a4e67db6-d44d-4187-8784-eacb5c0c9381')\"\n",
              "              title=\"Suggest charts.\"\n",
              "              style=\"display:none;\">\n",
              "\n",
              "<svg xmlns=\"http://www.w3.org/2000/svg\" height=\"24px\"viewBox=\"0 0 24 24\"\n",
              "     width=\"24px\">\n",
              "    <g>\n",
              "        <path d=\"M19 3H5c-1.1 0-2 .9-2 2v14c0 1.1.9 2 2 2h14c1.1 0 2-.9 2-2V5c0-1.1-.9-2-2-2zM9 17H7v-7h2v7zm4 0h-2V7h2v10zm4 0h-2v-4h2v4z\"/>\n",
              "    </g>\n",
              "</svg>\n",
              "      </button>\n",
              "    </div>\n",
              "\n",
              "<style>\n",
              "  .colab-df-quickchart {\n",
              "    background-color: #E8F0FE;\n",
              "    border: none;\n",
              "    border-radius: 50%;\n",
              "    cursor: pointer;\n",
              "    display: none;\n",
              "    fill: #1967D2;\n",
              "    height: 32px;\n",
              "    padding: 0 0 0 0;\n",
              "    width: 32px;\n",
              "  }\n",
              "\n",
              "  .colab-df-quickchart:hover {\n",
              "    background-color: #E2EBFA;\n",
              "    box-shadow: 0px 1px 2px rgba(60, 64, 67, 0.3), 0px 1px 3px 1px rgba(60, 64, 67, 0.15);\n",
              "    fill: #174EA6;\n",
              "  }\n",
              "\n",
              "  [theme=dark] .colab-df-quickchart {\n",
              "    background-color: #3B4455;\n",
              "    fill: #D2E3FC;\n",
              "  }\n",
              "\n",
              "  [theme=dark] .colab-df-quickchart:hover {\n",
              "    background-color: #434B5C;\n",
              "    box-shadow: 0px 1px 3px 1px rgba(0, 0, 0, 0.15);\n",
              "    filter: drop-shadow(0px 1px 2px rgba(0, 0, 0, 0.3));\n",
              "    fill: #FFFFFF;\n",
              "  }\n",
              "</style>\n",
              "\n",
              "    <script>\n",
              "      async function quickchart(key) {\n",
              "        const containerElement = document.querySelector('#' + key);\n",
              "        const charts = await google.colab.kernel.invokeFunction(\n",
              "            'suggestCharts', [key], {});\n",
              "      }\n",
              "    </script>\n",
              "\n",
              "      <script>\n",
              "\n",
              "function displayQuickchartButton(domScope) {\n",
              "  let quickchartButtonEl =\n",
              "    domScope.querySelector('#df-a4e67db6-d44d-4187-8784-eacb5c0c9381 button.colab-df-quickchart');\n",
              "  quickchartButtonEl.style.display =\n",
              "    google.colab.kernel.accessAllowed ? 'block' : 'none';\n",
              "}\n",
              "\n",
              "        displayQuickchartButton(document);\n",
              "      </script>\n",
              "      <style>\n",
              "    .colab-df-container {\n",
              "      display:flex;\n",
              "      flex-wrap:wrap;\n",
              "      gap: 12px;\n",
              "    }\n",
              "\n",
              "    .colab-df-convert {\n",
              "      background-color: #E8F0FE;\n",
              "      border: none;\n",
              "      border-radius: 50%;\n",
              "      cursor: pointer;\n",
              "      display: none;\n",
              "      fill: #1967D2;\n",
              "      height: 32px;\n",
              "      padding: 0 0 0 0;\n",
              "      width: 32px;\n",
              "    }\n",
              "\n",
              "    .colab-df-convert:hover {\n",
              "      background-color: #E2EBFA;\n",
              "      box-shadow: 0px 1px 2px rgba(60, 64, 67, 0.3), 0px 1px 3px 1px rgba(60, 64, 67, 0.15);\n",
              "      fill: #174EA6;\n",
              "    }\n",
              "\n",
              "    [theme=dark] .colab-df-convert {\n",
              "      background-color: #3B4455;\n",
              "      fill: #D2E3FC;\n",
              "    }\n",
              "\n",
              "    [theme=dark] .colab-df-convert:hover {\n",
              "      background-color: #434B5C;\n",
              "      box-shadow: 0px 1px 3px 1px rgba(0, 0, 0, 0.15);\n",
              "      filter: drop-shadow(0px 1px 2px rgba(0, 0, 0, 0.3));\n",
              "      fill: #FFFFFF;\n",
              "    }\n",
              "  </style>\n",
              "\n",
              "      <script>\n",
              "        const buttonEl =\n",
              "          document.querySelector('#df-ee52c1f7-48db-45fc-af03-a52216ba12c9 button.colab-df-convert');\n",
              "        buttonEl.style.display =\n",
              "          google.colab.kernel.accessAllowed ? 'block' : 'none';\n",
              "\n",
              "        async function convertToInteractive(key) {\n",
              "          const element = document.querySelector('#df-ee52c1f7-48db-45fc-af03-a52216ba12c9');\n",
              "          const dataTable =\n",
              "            await google.colab.kernel.invokeFunction('convertToInteractive',\n",
              "                                                     [key], {});\n",
              "          if (!dataTable) return;\n",
              "\n",
              "          const docLinkHtml = 'Like what you see? Visit the ' +\n",
              "            '<a target=\"_blank\" href=https://colab.research.google.com/notebooks/data_table.ipynb>data table notebook</a>'\n",
              "            + ' to learn more about interactive tables.';\n",
              "          element.innerHTML = '';\n",
              "          dataTable['output_type'] = 'display_data';\n",
              "          await google.colab.output.renderOutput(dataTable, element);\n",
              "          const docLink = document.createElement('div');\n",
              "          docLink.innerHTML = docLinkHtml;\n",
              "          element.appendChild(docLink);\n",
              "        }\n",
              "      </script>\n",
              "    </div>\n",
              "  </div>\n"
            ],
            "text/plain": [
              "      ID  No_Pation Gender  AGE  Urea  Cr  HbA1c  Chol   TG  HDL  LDL  VLDL  \\\n",
              "0    502      17975      F   50   4.7  46    4.9   4.2  0.9  2.4  1.4   0.5   \n",
              "1    735      34221      M   26   4.5  62    4.9   3.7  1.4  1.1  2.1   0.6   \n",
              "2    420      47975      F   50   4.7  46    4.9   4.2  0.9  2.4  1.4   0.5   \n",
              "3    680      87656      F   50   4.7  46    4.9   4.2  0.9  2.4  1.4   0.5   \n",
              "4    504      34223      M   33   7.1  46    4.9   4.9  1.0  0.8  2.0   0.4   \n",
              "..   ...        ...    ...  ...   ...  ..    ...   ...  ...  ...  ...   ...   \n",
              "995  200     454317      M   71  11.0  97    7.0   7.5  1.7  1.2  1.8   0.6   \n",
              "996  671     876534      M   31   3.0  60   12.3   4.1  2.2  0.7  2.4  15.4   \n",
              "997  669      87654      M   30   7.1  81    6.7   4.1  1.1  1.2  2.4   8.1   \n",
              "998   99      24004      M   38   5.8  59    6.7   5.3  2.0  1.6  2.9  14.0   \n",
              "999  248      24054      M   54   5.0  67    6.9   3.8  1.7  1.1  3.0   0.7   \n",
              "\n",
              "      BMI CLASS  \n",
              "0    24.0     N  \n",
              "1    23.0     N  \n",
              "2    24.0     N  \n",
              "3    24.0     N  \n",
              "4    21.0     N  \n",
              "..    ...   ...  \n",
              "995  30.0     Y  \n",
              "996  37.2    Y   \n",
              "997  27.4    Y   \n",
              "998  40.5    Y   \n",
              "999  33.0    Y   \n",
              "\n",
              "[1000 rows x 14 columns]"
            ]
          },
          "execution_count": 4,
          "metadata": {},
          "output_type": "execute_result"
        }
      ],
      "source": [
        "path = './dataset/Dataset of Diabetes.csv'\n",
        "data = pd.read_csv(path)\n",
        "data"
      ]
    },
    {
      "cell_type": "markdown",
      "metadata": {
        "id": "0XBlqeHTEWgh"
      },
      "source": [
        "## Data Cleaning and Preprocessing"
      ]
    },
    {
      "cell_type": "markdown",
      "metadata": {
        "id": "gEnaImSRDkYR"
      },
      "source": [
        "### Removing Unnecessary Data"
      ]
    },
    {
      "cell_type": "code",
      "execution_count": 5,
      "metadata": {
        "colab": {
          "base_uri": "https://localhost:8080/"
        },
        "id": "ktvBmpPUs7Zq",
        "outputId": "cd8b76b6-c0cc-443c-aaee-174aa14b8386"
      },
      "outputs": [
        {
          "name": "stdout",
          "output_type": "stream",
          "text": [
            "Columns Before (14): ['ID', 'No_Pation', 'Gender', 'AGE', 'Urea', 'Cr', 'HbA1c', 'Chol', 'TG', 'HDL', 'LDL', 'VLDL', 'BMI', 'CLASS']\n",
            "Columns After (12): ['Gender', 'AGE', 'Urea', 'Cr', 'HbA1c', 'Chol', 'TG', 'HDL', 'LDL', 'VLDL', 'BMI', 'CLASS']\n"
          ]
        }
      ],
      "source": [
        "print(f'Columns Before ({len(data.columns)}):', data.columns.tolist())\n",
        "data.drop(['ID','No_Pation'], axis=1, inplace=True)\n",
        "print(f'Columns After ({len(data.columns)}):', data.columns.tolist())"
      ]
    },
    {
      "cell_type": "markdown",
      "metadata": {
        "id": "6Wt-KzfhE2cs"
      },
      "source": [
        "### Correcting Data Entry Errors"
      ]
    },
    {
      "cell_type": "code",
      "execution_count": 6,
      "metadata": {
        "colab": {
          "base_uri": "https://localhost:8080/"
        },
        "id": "RLzflWaHu9sq",
        "outputId": "f6f83f36-3f04-4ace-a5b8-92fcf5d51311"
      },
      "outputs": [
        {
          "name": "stdout",
          "output_type": "stream",
          "text": [
            "# Before\n",
            "Gender: ['F', 'M', 'f']\n",
            "CLASS: ['N', 'N ', 'P', 'Y', 'Y ']\n"
          ]
        }
      ],
      "source": [
        "print('# Before')\n",
        "for col in data.select_dtypes('object').columns:\n",
        "    print(f'{col}: {data[col].unique().tolist()}')"
      ]
    },
    {
      "cell_type": "code",
      "execution_count": 7,
      "metadata": {
        "id": "auE4wPKbE8em"
      },
      "outputs": [],
      "source": [
        "data['Gender'] =  data['Gender'].replace({'f': 'F'})\n",
        "data['CLASS'] =  data['CLASS'].replace({'N ': 'N', 'P': 'Y', 'Y ': 'Y'})"
      ]
    },
    {
      "cell_type": "code",
      "execution_count": 8,
      "metadata": {
        "colab": {
          "base_uri": "https://localhost:8080/"
        },
        "id": "LJIQdyUqJvqo",
        "outputId": "792dd9e3-0d8b-4b93-efd7-509594863d51"
      },
      "outputs": [
        {
          "name": "stdout",
          "output_type": "stream",
          "text": [
            "# After\n",
            "Gender: ['F', 'M']\n",
            "CLASS: ['N', 'Y']\n"
          ]
        }
      ],
      "source": [
        "print('# After')\n",
        "for col in data.select_dtypes('object').columns:\n",
        "    print(f'{col}: {data[col].unique().tolist()}')"
      ]
    },
    {
      "cell_type": "markdown",
      "metadata": {
        "id": "fAZTmyM8NBee"
      },
      "source": [
        "### Handling Missing Value"
      ]
    },
    {
      "cell_type": "code",
      "execution_count": 9,
      "metadata": {
        "colab": {
          "base_uri": "https://localhost:8080/"
        },
        "id": "3dJwJUDqNEqR",
        "outputId": "497b4e70-656a-4a41-f812-6ba68e4480d7"
      },
      "outputs": [
        {
          "data": {
            "text/plain": [
              "Gender    0\n",
              "AGE       0\n",
              "Urea      0\n",
              "Cr        0\n",
              "HbA1c     0\n",
              "Chol      0\n",
              "TG        0\n",
              "HDL       0\n",
              "LDL       0\n",
              "VLDL      0\n",
              "BMI       0\n",
              "CLASS     0\n",
              "dtype: int64"
            ]
          },
          "execution_count": 9,
          "metadata": {},
          "output_type": "execute_result"
        }
      ],
      "source": [
        "data.isna().sum()"
      ]
    },
    {
      "cell_type": "markdown",
      "metadata": {
        "id": "Z2At5VcED0UN"
      },
      "source": [
        "### Dealing with Duplicate Records"
      ]
    },
    {
      "cell_type": "code",
      "execution_count": 10,
      "metadata": {
        "colab": {
          "base_uri": "https://localhost:8080/"
        },
        "id": "x1nbwUMNDitS",
        "outputId": "5e6779c4-c1b9-4f6f-f58d-07dc93673087"
      },
      "outputs": [
        {
          "name": "stdout",
          "output_type": "stream",
          "text": [
            "Records Before: 1000\n",
            "Records After: 826\n"
          ]
        }
      ],
      "source": [
        "print('Records Before:', len(data))\n",
        "data = data.drop_duplicates().reset_index(drop=True)\n",
        "print('Records After:', len(data))"
      ]
    },
    {
      "cell_type": "markdown",
      "metadata": {
        "id": "aVfIfD89h35H"
      },
      "source": [
        "### Data Transformation"
      ]
    },
    {
      "cell_type": "markdown",
      "metadata": {
        "id": "W3JJr_FjmTuS"
      },
      "source": [
        "#### Encode Gender"
      ]
    },
    {
      "cell_type": "code",
      "execution_count": 11,
      "metadata": {
        "colab": {
          "base_uri": "https://localhost:8080/"
        },
        "id": "o2ApPTCkmWyo",
        "outputId": "b12dce77-f118-4c44-bb71-873532405f53"
      },
      "outputs": [
        {
          "name": "stdout",
          "output_type": "stream",
          "text": [
            "Before: ['F', 'M']\n",
            "After: [0, 1]\n"
          ]
        }
      ],
      "source": [
        "print('Before:', data['Gender'].unique().tolist())\n",
        "data['Gender'].replace({'F': 0, 'M': 1}, inplace=True)\n",
        "print('After:', data['Gender'].unique().tolist())"
      ]
    },
    {
      "cell_type": "markdown",
      "metadata": {
        "id": "CkOdH3p2moFz"
      },
      "source": [
        "#### Encode CLASS"
      ]
    },
    {
      "cell_type": "code",
      "execution_count": 12,
      "metadata": {
        "colab": {
          "base_uri": "https://localhost:8080/"
        },
        "id": "B5PH0e5ulHeJ",
        "outputId": "6d474114-2efb-4eb7-ba15-d00920a8a178"
      },
      "outputs": [
        {
          "name": "stdout",
          "output_type": "stream",
          "text": [
            "Before: ['N', 'Y']\n",
            "After: [0, 1]\n"
          ]
        }
      ],
      "source": [
        "print('Before:', data['CLASS'].unique().tolist())\n",
        "data['CLASS'].replace({'N': 0, 'Y': 1}, inplace=True)\n",
        "print('After:', data['CLASS'].unique().tolist())"
      ]
    },
    {
      "cell_type": "markdown",
      "metadata": {
        "id": "g_SJoOlliD_P"
      },
      "source": [
        "## Data Exploration"
      ]
    },
    {
      "cell_type": "markdown",
      "metadata": {
        "id": "sKkzbvB0J-Vr"
      },
      "source": [
        "### Univariate Analysis (Categorical)"
      ]
    },
    {
      "cell_type": "markdown",
      "metadata": {
        "id": "b4NKFzgCRaUN"
      },
      "source": [
        "#### Gender"
      ]
    },
    {
      "cell_type": "code",
      "execution_count": 13,
      "metadata": {
        "colab": {
          "base_uri": "https://localhost:8080/",
          "height": 112
        },
        "id": "8aGOfqYILjq1",
        "outputId": "2aebee90-5d28-4c5e-e162-ee9d6d6b2dcf"
      },
      "outputs": [
        {
          "data": {
            "text/html": [
              "<style type=\"text/css\">\n",
              "</style>\n",
              "<table id=\"T_c982d\" class=\"dataframe\">\n",
              "  <thead>\n",
              "    <tr>\n",
              "      <th id=\"T_c982d_level0_col0\" class=\"col_heading level0 col0\" >Values</th>\n",
              "      <th id=\"T_c982d_level0_col1\" class=\"col_heading level0 col1\" >Count</th>\n",
              "      <th id=\"T_c982d_level0_col2\" class=\"col_heading level0 col2\" >%</th>\n",
              "    </tr>\n",
              "  </thead>\n",
              "  <tbody>\n",
              "    <tr>\n",
              "      <td id=\"T_c982d_row0_col0\" class=\"data row0 col0\" >1</td>\n",
              "      <td id=\"T_c982d_row0_col1\" class=\"data row0 col1\" >463</td>\n",
              "      <td id=\"T_c982d_row0_col2\" class=\"data row0 col2\" >56.053000</td>\n",
              "    </tr>\n",
              "    <tr>\n",
              "      <td id=\"T_c982d_row1_col0\" class=\"data row1 col0\" >0</td>\n",
              "      <td id=\"T_c982d_row1_col1\" class=\"data row1 col1\" >363</td>\n",
              "      <td id=\"T_c982d_row1_col2\" class=\"data row1 col2\" >43.947000</td>\n",
              "    </tr>\n",
              "  </tbody>\n",
              "</table>\n"
            ],
            "text/plain": [
              "<pandas.io.formats.style.Styler at 0x7b751022fd30>"
            ]
          },
          "execution_count": 13,
          "metadata": {},
          "output_type": "execute_result"
        }
      ],
      "source": [
        "gender = val_count(data.Gender)\n",
        "gender.style.hide(axis='index')"
      ]
    },
    {
      "cell_type": "code",
      "execution_count": 14,
      "metadata": {
        "colab": {
          "base_uri": "https://localhost:8080/",
          "height": 472
        },
        "id": "W2HYsUm4Rb0x",
        "outputId": "007a19fb-63da-4e9a-863a-9d3cb68e1691"
      },
      "outputs": [
        {
          "data": {
            "image/png": "[encoded data removed]",
            "text/plain": [
              "<Figure size 640x480 with 1 Axes>"
            ]
          },
          "metadata": {},
          "output_type": "display_data"
        }
      ],
      "source": [
        "ax = sns.barplot(data=gender, x='Values', y='Count', color='dodgerblue')\n",
        "ax.bar_label(ax.containers[0], fmt='%i', padding=-25, color='white', fontweight='bold')\n",
        "plt.title('Gender', fontweight='bold')\n",
        "plt.show()"
      ]
    },
    {
      "cell_type": "markdown",
      "metadata": {
        "id": "aeZobDHB1bCv"
      },
      "source": [
        "### Univariate Analysis (Numerical)"
      ]
    },
    {
      "cell_type": "markdown",
      "metadata": {
        "id": "CTg3hMHeVy7L"
      },
      "source": [
        "#### AGE"
      ]
    },
    {
      "cell_type": "code",
      "execution_count": 15,
      "metadata": {
        "colab": {
          "base_uri": "https://localhost:8080/",
          "height": 472
        },
        "id": "7vtBLSkrV07M",
        "outputId": "de12ee0c-1bf2-4423-9774-930a45f28ed4"
      },
      "outputs": [
        {
          "data": {
            "image/png": "[encoded data removed]",
            "text/plain": [
              "<Figure size 640x480 with 1 Axes>"
            ]
          },
          "metadata": {},
          "output_type": "display_data"
        }
      ],
      "source": [
        "sns.histplot(data['AGE'], kde=True, color='dodgerblue')\n",
        "plt.title('AGE', fontweight='bold')\n",
        "plt.show()"
      ]
    },
    {
      "cell_type": "code",
      "execution_count": 16,
      "metadata": {
        "colab": {
          "base_uri": "https://localhost:8080/"
        },
        "id": "hoYZlMkm0oGd",
        "outputId": "3db19a55-f53c-4e77-d8a1-6ac437f07f6a"
      },
      "outputs": [
        {
          "data": {
            "text/plain": [
              "min         20.000\n",
              "max         79.000\n",
              "range       59.000\n",
              "mean        53.490\n",
              "median      55.000\n",
              "std          8.803\n",
              "skewness    -0.811\n",
              "kurtosis     1.446\n",
              "dtype: float64"
            ]
          },
          "execution_count": 16,
          "metadata": {},
          "output_type": "execute_result"
        }
      ],
      "source": [
        "numerical_summary(data['AGE'])"
      ]
    },
    {
      "cell_type": "markdown",
      "metadata": {
        "id": "1zua95PncToG"
      },
      "source": [
        "#### Urea"
      ]
    },
    {
      "cell_type": "code",
      "execution_count": 17,
      "metadata": {
        "colab": {
          "base_uri": "https://localhost:8080/",
          "height": 472
        },
        "id": "6CZ3iaDVca0h",
        "outputId": "b3a4f36d-4ea6-46e0-be3f-7a1e84923d50"
      },
      "outputs": [
        {
          "data": {
            "image/png": "[encoded data removed]",
            "text/plain": [
              "<Figure size 640x480 with 1 Axes>"
            ]
          },
          "metadata": {},
          "output_type": "display_data"
        }
      ],
      "source": [
        "sns.histplot(data['Urea'], kde=True, color='dodgerblue')\n",
        "plt.title('Urea', fontweight='bold')\n",
        "plt.show()"
      ]
    },
    {
      "cell_type": "code",
      "execution_count": 18,
      "metadata": {
        "colab": {
          "base_uri": "https://localhost:8080/"
        },
        "id": "0F3w8cx80t9P",
        "outputId": "3cbb2161-c5ce-487a-bc72-d20718023fea"
      },
      "outputs": [
        {
          "data": {
            "text/plain": [
              "min          0.500\n",
              "max         38.900\n",
              "range       38.400\n",
              "mean         5.185\n",
              "median       4.600\n",
              "std          3.076\n",
              "skewness     4.259\n",
              "kurtosis    29.197\n",
              "dtype: float64"
            ]
          },
          "execution_count": 18,
          "metadata": {},
          "output_type": "execute_result"
        }
      ],
      "source": [
        "numerical_summary(data['Urea'])"
      ]
    },
    {
      "cell_type": "markdown",
      "metadata": {
        "id": "EJe_YBcjdA3M"
      },
      "source": [
        "#### Cr"
      ]
    },
    {
      "cell_type": "code",
      "execution_count": 19,
      "metadata": {
        "colab": {
          "base_uri": "https://localhost:8080/",
          "height": 472
        },
        "id": "fV2wosmQdC5g",
        "outputId": "b49baf10-e847-441d-e177-60973fcdce1f"
      },
      "outputs": [
        {
          "data": {
            "image/png": "[encoded data removed]",
            "text/plain": [
              "<Figure size 640x480 with 1 Axes>"
            ]
          },
          "metadata": {},
          "output_type": "display_data"
        }
      ],
      "source": [
        "sns.histplot(data['Cr'], kde=True, color='dodgerblue')\n",
        "plt.title('Cr', fontweight='bold')\n",
        "plt.show()"
      ]
    },
    {
      "cell_type": "code",
      "execution_count": 20,
      "metadata": {
        "colab": {
          "base_uri": "https://localhost:8080/"
        },
        "id": "wo3GS8vh0v5G",
        "outputId": "5da821e2-7cb9-4eba-baaa-2ead67f84f15"
      },
      "outputs": [
        {
          "data": {
            "text/plain": [
              "min           6.000\n",
              "max         800.000\n",
              "range       794.000\n",
              "mean         69.024\n",
              "median       59.000\n",
              "std          59.521\n",
              "skewness      8.149\n",
              "kurtosis     87.035\n",
              "dtype: float64"
            ]
          },
          "execution_count": 20,
          "metadata": {},
          "output_type": "execute_result"
        }
      ],
      "source": [
        "numerical_summary(data['Cr'])"
      ]
    },
    {
      "cell_type": "markdown",
      "metadata": {
        "id": "3Rpeyxv2dGXH"
      },
      "source": [
        "#### HbA1c"
      ]
    },
    {
      "cell_type": "code",
      "execution_count": 21,
      "metadata": {
        "colab": {
          "base_uri": "https://localhost:8080/",
          "height": 472
        },
        "id": "ELs49d2KdNtD",
        "outputId": "8aefa6c8-d70a-4c8a-b334-286b3f3c2e48"
      },
      "outputs": [
        {
          "data": {
            "image/png": "[encoded data removed]",
            "text/plain": [
              "<Figure size 640x480 with 1 Axes>"
            ]
          },
          "metadata": {},
          "output_type": "display_data"
        }
      ],
      "source": [
        "sns.histplot(data['HbA1c'], kde=True, color='dodgerblue')\n",
        "plt.title('HbA1c', fontweight='bold')\n",
        "plt.show()"
      ]
    },
    {
      "cell_type": "code",
      "execution_count": 22,
      "metadata": {
        "colab": {
          "base_uri": "https://localhost:8080/"
        },
        "id": "S9k_-94U0x4Y",
        "outputId": "ebc0b779-4452-43e9-aae7-8845ae5ef55e"
      },
      "outputs": [
        {
          "data": {
            "text/plain": [
              "min          0.900\n",
              "max         16.000\n",
              "range       15.100\n",
              "mean         8.326\n",
              "median       8.100\n",
              "std          2.601\n",
              "skewness     0.183\n",
              "kurtosis    -0.340\n",
              "dtype: float64"
            ]
          },
          "execution_count": 22,
          "metadata": {},
          "output_type": "execute_result"
        }
      ],
      "source": [
        "numerical_summary(data['HbA1c'])"
      ]
    },
    {
      "cell_type": "markdown",
      "metadata": {
        "id": "jafi5MWjdTp0"
      },
      "source": [
        "#### Chol"
      ]
    },
    {
      "cell_type": "code",
      "execution_count": 23,
      "metadata": {
        "colab": {
          "base_uri": "https://localhost:8080/",
          "height": 472
        },
        "id": "2o6JYR8QdTSC",
        "outputId": "d9cecf3f-352d-48af-bf41-694b214154a7"
      },
      "outputs": [
        {
          "data": {
            "image/png": "[encoded data removed]",
            "text/plain": [
              "<Figure size 640x480 with 1 Axes>"
            ]
          },
          "metadata": {},
          "output_type": "display_data"
        }
      ],
      "source": [
        "sns.histplot(data['Chol'], kde=True, color='dodgerblue')\n",
        "plt.title('Chol', fontweight='bold')\n",
        "plt.show()"
      ]
    },
    {
      "cell_type": "code",
      "execution_count": 24,
      "metadata": {
        "colab": {
          "base_uri": "https://localhost:8080/"
        },
        "id": "nyXyyO810zpY",
        "outputId": "a7829a6c-02bf-4757-b961-679905cb67e1"
      },
      "outputs": [
        {
          "data": {
            "text/plain": [
              "min          0.000\n",
              "max         10.300\n",
              "range       10.300\n",
              "mean         4.898\n",
              "median       4.800\n",
              "std          1.328\n",
              "skewness     0.576\n",
              "kurtosis     1.696\n",
              "dtype: float64"
            ]
          },
          "execution_count": 24,
          "metadata": {},
          "output_type": "execute_result"
        }
      ],
      "source": [
        "numerical_summary(data['Chol'])"
      ]
    },
    {
      "cell_type": "markdown",
      "metadata": {
        "id": "IUf1xABndeD7"
      },
      "source": [
        "#### TG"
      ]
    },
    {
      "cell_type": "code",
      "execution_count": 25,
      "metadata": {
        "colab": {
          "base_uri": "https://localhost:8080/",
          "height": 472
        },
        "id": "vQgtlwJxdeSl",
        "outputId": "ae33c24c-0591-40cf-8e90-660e8a3a1971"
      },
      "outputs": [
        {
          "data": {
            "image/png": "[encoded data removed]",
            "text/plain": [
              "<Figure size 640x480 with 1 Axes>"
            ]
          },
          "metadata": {},
          "output_type": "display_data"
        }
      ],
      "source": [
        "sns.histplot(data['TG'], kde=True, color='dodgerblue')\n",
        "plt.title('TG', fontweight='bold')\n",
        "plt.show()"
      ]
    },
    {
      "cell_type": "code",
      "execution_count": 26,
      "metadata": {
        "colab": {
          "base_uri": "https://localhost:8080/"
        },
        "id": "JKlFm8W_01eF",
        "outputId": "49a624a0-7c9c-4c16-8a1b-9c366b387bea"
      },
      "outputs": [
        {
          "data": {
            "text/plain": [
              "min          0.300\n",
              "max         13.800\n",
              "range       13.500\n",
              "mean         2.399\n",
              "median       2.015\n",
              "std          1.456\n",
              "skewness     2.295\n",
              "kurtosis    10.144\n",
              "dtype: float64"
            ]
          },
          "execution_count": 26,
          "metadata": {},
          "output_type": "execute_result"
        }
      ],
      "source": [
        "numerical_summary(data['TG'])"
      ]
    },
    {
      "cell_type": "markdown",
      "metadata": {
        "id": "qUzE0J4fdhk0"
      },
      "source": [
        "#### HDL"
      ]
    },
    {
      "cell_type": "code",
      "execution_count": 27,
      "metadata": {
        "colab": {
          "base_uri": "https://localhost:8080/",
          "height": 472
        },
        "id": "rouKcLEEdh4A",
        "outputId": "9fb64154-afd6-4191-940c-ae01054fb4ad"
      },
      "outputs": [
        {
          "data": {
            "image/png": "[encoded data removed]",
            "text/plain": [
              "<Figure size 640x480 with 1 Axes>"
            ]
          },
          "metadata": {},
          "output_type": "display_data"
        }
      ],
      "source": [
        "sns.histplot(data['HDL'], kde=True, color='dodgerblue')\n",
        "plt.title('HDL', fontweight='bold')\n",
        "plt.show()"
      ]
    },
    {
      "cell_type": "code",
      "execution_count": 28,
      "metadata": {
        "colab": {
          "base_uri": "https://localhost:8080/"
        },
        "id": "-dpRmfbN06bx",
        "outputId": "e8f496b8-c06d-4630-e847-eace3425eb34"
      },
      "outputs": [
        {
          "data": {
            "text/plain": [
              "min          0.200\n",
              "max          9.900\n",
              "range        9.700\n",
              "mean         1.212\n",
              "median       1.100\n",
              "std          0.679\n",
              "skewness     6.298\n",
              "kurtosis    62.700\n",
              "dtype: float64"
            ]
          },
          "execution_count": 28,
          "metadata": {},
          "output_type": "execute_result"
        }
      ],
      "source": [
        "numerical_summary(data['HDL'])"
      ]
    },
    {
      "cell_type": "markdown",
      "metadata": {
        "id": "Y8XU88GJdlx5"
      },
      "source": [
        "#### LDL"
      ]
    },
    {
      "cell_type": "code",
      "execution_count": 29,
      "metadata": {
        "colab": {
          "base_uri": "https://localhost:8080/",
          "height": 472
        },
        "id": "zA7zh_z6dpgZ",
        "outputId": "900934f5-bef2-4637-8071-df0aea091952"
      },
      "outputs": [
        {
          "data": {
            "image/png": "[encoded data removed]",
            "text/plain": [
              "<Figure size 640x480 with 1 Axes>"
            ]
          },
          "metadata": {},
          "output_type": "display_data"
        }
      ],
      "source": [
        "sns.histplot(data['LDL'], kde=True, color='dodgerblue')\n",
        "plt.title('LDL', fontweight='bold')\n",
        "plt.show()"
      ]
    },
    {
      "cell_type": "code",
      "execution_count": 30,
      "metadata": {
        "colab": {
          "base_uri": "https://localhost:8080/"
        },
        "id": "522QjIDJ08ZZ",
        "outputId": "b5655e96-be1b-4bca-ebda-09df47438650"
      },
      "outputs": [
        {
          "data": {
            "text/plain": [
              "min         0.300\n",
              "max         9.900\n",
              "range       9.600\n",
              "mean        2.590\n",
              "median      2.500\n",
              "std         1.132\n",
              "skewness    1.005\n",
              "kurtosis    3.023\n",
              "dtype: float64"
            ]
          },
          "execution_count": 30,
          "metadata": {},
          "output_type": "execute_result"
        }
      ],
      "source": [
        "numerical_summary(data['LDL'])"
      ]
    },
    {
      "cell_type": "markdown",
      "metadata": {
        "id": "0bThOh3adrh_"
      },
      "source": [
        "#### VLDL"
      ]
    },
    {
      "cell_type": "code",
      "execution_count": 31,
      "metadata": {
        "colab": {
          "base_uri": "https://localhost:8080/",
          "height": 472
        },
        "id": "SNMI_UWgdtCc",
        "outputId": "ab603dac-c8a2-496e-b27d-e2f468975885"
      },
      "outputs": [
        {
          "data": {
            "image/png": "[encoded data removed]",
            "text/plain": [
              "<Figure size 640x480 with 1 Axes>"
            ]
          },
          "metadata": {},
          "output_type": "display_data"
        }
      ],
      "source": [
        "sns.histplot(data['VLDL'], kde=True, color='dodgerblue')\n",
        "plt.title('VLDL', fontweight='bold')\n",
        "plt.show()"
      ]
    },
    {
      "cell_type": "code",
      "execution_count": 32,
      "metadata": {
        "colab": {
          "base_uri": "https://localhost:8080/"
        },
        "id": "ICRO5f6t0-pM",
        "outputId": "b162ed0a-30c9-4d69-9088-3f3eec803572"
      },
      "outputs": [
        {
          "data": {
            "text/plain": [
              "min          0.100\n",
              "max         35.000\n",
              "range       34.900\n",
              "mean         1.775\n",
              "median       1.000\n",
              "std          3.516\n",
              "skewness     5.893\n",
              "kurtosis    40.185\n",
              "dtype: float64"
            ]
          },
          "execution_count": 32,
          "metadata": {},
          "output_type": "execute_result"
        }
      ],
      "source": [
        "numerical_summary(data['VLDL'])"
      ]
    },
    {
      "cell_type": "markdown",
      "metadata": {
        "id": "r-YDKk0QdwuH"
      },
      "source": [
        "#### BMI"
      ]
    },
    {
      "cell_type": "code",
      "execution_count": 33,
      "metadata": {
        "colab": {
          "base_uri": "https://localhost:8080/",
          "height": 472
        },
        "id": "KVH9c6-adyLi",
        "outputId": "1e94e90d-133d-407b-8afe-c6c2e3934ada"
      },
      "outputs": [
        {
          "data": {
            "image/png": "[encoded data removed]",
            "text/plain": [
              "<Figure size 640x480 with 1 Axes>"
            ]
          },
          "metadata": {},
          "output_type": "display_data"
        }
      ],
      "source": [
        "sns.histplot(data['BMI'], kde=True, color='dodgerblue')\n",
        "plt.title('BMI', fontweight='bold')\n",
        "plt.show()"
      ]
    },
    {
      "cell_type": "code",
      "execution_count": 34,
      "metadata": {
        "colab": {
          "base_uri": "https://localhost:8080/"
        },
        "id": "_W5yKfTZ1At2",
        "outputId": "cca86605-fe1e-4571-f9b0-f4382a39b76a"
      },
      "outputs": [
        {
          "data": {
            "text/plain": [
              "min         19.000\n",
              "max         47.750\n",
              "range       28.750\n",
              "mean        29.459\n",
              "median      30.000\n",
              "std          4.994\n",
              "skewness     0.081\n",
              "kurtosis    -0.425\n",
              "dtype: float64"
            ]
          },
          "execution_count": 34,
          "metadata": {},
          "output_type": "execute_result"
        }
      ],
      "source": [
        "numerical_summary(data['BMI'])"
      ]
    },
    {
      "cell_type": "markdown",
      "metadata": {
        "id": "qVeW-UD9d4T_"
      },
      "source": [
        "### Correlation"
      ]
    },
    {
      "cell_type": "code",
      "execution_count": 35,
      "metadata": {
        "colab": {
          "base_uri": "https://localhost:8080/",
          "height": 682
        },
        "id": "76jjVZdrd6Pw",
        "outputId": "8f36a736-8656-46f8-8aca-dc3716336474"
      },
      "outputs": [
        {
          "data": {
            "image/png": "[encoded data removed]",
            "text/plain": [
              "<Figure size 1100x800 with 2 Axes>"
            ]
          },
          "metadata": {},
          "output_type": "display_data"
        }
      ],
      "source": [
        "plt.figure(figsize=(11,8))\n",
        "sns.heatmap(data.corr(method='spearman'), annot=True, cmap='Blues')\n",
        "plt.show()"
      ]
    },
    {
      "cell_type": "code",
      "execution_count": 36,
      "metadata": {
        "colab": {
          "base_uri": "https://localhost:8080/",
          "height": 429
        },
        "id": "ddhKp6RamNWT",
        "outputId": "831c0fbf-abe7-46fa-e76a-247b47a00af4"
      },
      "outputs": [
        {
          "name": "stdout",
          "output_type": "stream",
          "text": [
            "Sorted Correlation Between Feature and Target(CLASS)\n",
            "\n"
          ]
        },
        {
          "data": {
            "text/html": [
              "<style type=\"text/css\">\n",
              "</style>\n",
              "<table id=\"T_64b38\" class=\"dataframe\">\n",
              "  <thead>\n",
              "    <tr>\n",
              "      <th id=\"T_64b38_level0_col0\" class=\"col_heading level0 col0\" >Feature</th>\n",
              "      <th id=\"T_64b38_level0_col1\" class=\"col_heading level0 col1\" >Corr</th>\n",
              "    </tr>\n",
              "  </thead>\n",
              "  <tbody>\n",
              "    <tr>\n",
              "      <td id=\"T_64b38_row0_col0\" class=\"data row0 col0\" >HbA1c</td>\n",
              "      <td id=\"T_64b38_row0_col1\" class=\"data row0 col1\" >0.521619</td>\n",
              "    </tr>\n",
              "    <tr>\n",
              "      <td id=\"T_64b38_row1_col0\" class=\"data row1 col0\" >BMI</td>\n",
              "      <td id=\"T_64b38_row1_col1\" class=\"data row1 col1\" >0.502826</td>\n",
              "    </tr>\n",
              "    <tr>\n",
              "      <td id=\"T_64b38_row2_col0\" class=\"data row2 col0\" >AGE</td>\n",
              "      <td id=\"T_64b38_row2_col1\" class=\"data row2 col1\" >0.383285</td>\n",
              "    </tr>\n",
              "    <tr>\n",
              "      <td id=\"T_64b38_row3_col0\" class=\"data row3 col0\" >TG</td>\n",
              "      <td id=\"T_64b38_row3_col1\" class=\"data row3 col1\" >0.253221</td>\n",
              "    </tr>\n",
              "    <tr>\n",
              "      <td id=\"T_64b38_row4_col0\" class=\"data row4 col0\" >VLDL</td>\n",
              "      <td id=\"T_64b38_row4_col1\" class=\"data row4 col1\" >0.231634</td>\n",
              "    </tr>\n",
              "    <tr>\n",
              "      <td id=\"T_64b38_row5_col0\" class=\"data row5 col0\" >Chol</td>\n",
              "      <td id=\"T_64b38_row5_col1\" class=\"data row5 col1\" >0.212505</td>\n",
              "    </tr>\n",
              "    <tr>\n",
              "      <td id=\"T_64b38_row6_col0\" class=\"data row6 col0\" >Gender</td>\n",
              "      <td id=\"T_64b38_row6_col1\" class=\"data row6 col1\" >0.120338</td>\n",
              "    </tr>\n",
              "    <tr>\n",
              "      <td id=\"T_64b38_row7_col0\" class=\"data row7 col0\" >Urea</td>\n",
              "      <td id=\"T_64b38_row7_col1\" class=\"data row7 col1\" >0.067122</td>\n",
              "    </tr>\n",
              "    <tr>\n",
              "      <td id=\"T_64b38_row8_col0\" class=\"data row8 col0\" >Cr</td>\n",
              "      <td id=\"T_64b38_row8_col1\" class=\"data row8 col1\" >0.038377</td>\n",
              "    </tr>\n",
              "    <tr>\n",
              "      <td id=\"T_64b38_row9_col0\" class=\"data row9 col0\" >LDL</td>\n",
              "      <td id=\"T_64b38_row9_col1\" class=\"data row9 col1\" >-0.026866</td>\n",
              "    </tr>\n",
              "    <tr>\n",
              "      <td id=\"T_64b38_row10_col0\" class=\"data row10 col0\" >HDL</td>\n",
              "      <td id=\"T_64b38_row10_col1\" class=\"data row10 col1\" >-0.020759</td>\n",
              "    </tr>\n",
              "  </tbody>\n",
              "</table>\n"
            ],
            "text/plain": [
              "<pandas.io.formats.style.Styler at 0x7b74b61a5930>"
            ]
          },
          "metadata": {},
          "output_type": "display_data"
        }
      ],
      "source": [
        "corr_with_target = data.drop('CLASS', axis=1).corrwith(data['CLASS'],axis=0, method='spearman')\n",
        "corr_with_target = corr_with_target.sort_values(key=abs, ascending=False).reset_index()\n",
        "corr_with_target = corr_with_target.rename(columns={'index':'Feature', 0:'Corr'})\n",
        "print('Sorted Correlation Between Feature and Target(CLASS)\\n')\n",
        "display(corr_with_target.style.hide(axis='index'))"
      ]
    },
    {
      "cell_type": "markdown",
      "metadata": {
        "id": "BLwNyEy4t86s"
      },
      "source": [
        "### Label Distributions"
      ]
    },
    {
      "cell_type": "code",
      "execution_count": 37,
      "metadata": {
        "colab": {
          "base_uri": "https://localhost:8080/",
          "height": 112
        },
        "id": "0v4Q8T6quFr-",
        "outputId": "cf8c8d48-7f36-4f7b-9c54-bcbfeffd9d77"
      },
      "outputs": [
        {
          "data": {
            "text/html": [
              "<style type=\"text/css\">\n",
              "</style>\n",
              "<table id=\"T_6d5b2\" class=\"dataframe\">\n",
              "  <thead>\n",
              "    <tr>\n",
              "      <th id=\"T_6d5b2_level0_col0\" class=\"col_heading level0 col0\" >Values</th>\n",
              "      <th id=\"T_6d5b2_level0_col1\" class=\"col_heading level0 col1\" >Count</th>\n",
              "      <th id=\"T_6d5b2_level0_col2\" class=\"col_heading level0 col2\" >%</th>\n",
              "    </tr>\n",
              "  </thead>\n",
              "  <tbody>\n",
              "    <tr>\n",
              "      <td id=\"T_6d5b2_row0_col0\" class=\"data row0 col0\" >1</td>\n",
              "      <td id=\"T_6d5b2_row0_col1\" class=\"data row0 col1\" >730</td>\n",
              "      <td id=\"T_6d5b2_row0_col2\" class=\"data row0 col2\" >88.378000</td>\n",
              "    </tr>\n",
              "    <tr>\n",
              "      <td id=\"T_6d5b2_row1_col0\" class=\"data row1 col0\" >0</td>\n",
              "      <td id=\"T_6d5b2_row1_col1\" class=\"data row1 col1\" >96</td>\n",
              "      <td id=\"T_6d5b2_row1_col2\" class=\"data row1 col2\" >11.622000</td>\n",
              "    </tr>\n",
              "  </tbody>\n",
              "</table>\n"
            ],
            "text/plain": [
              "<pandas.io.formats.style.Styler at 0x7b74b61a4c70>"
            ]
          },
          "execution_count": 37,
          "metadata": {},
          "output_type": "execute_result"
        }
      ],
      "source": [
        "class_ = val_count(data.CLASS)\n",
        "class_.style.hide(axis='index')"
      ]
    },
    {
      "cell_type": "code",
      "execution_count": 38,
      "metadata": {
        "colab": {
          "base_uri": "https://localhost:8080/",
          "height": 472
        },
        "id": "rTCMNYgsuOId",
        "outputId": "cbb81186-43a4-431f-d087-79240cc4e93e"
      },
      "outputs": [
        {
          "data": {
            "image/png": "[encoded data removed]",
            "text/plain": [
              "<Figure size 640x480 with 1 Axes>"
            ]
          },
          "metadata": {},
          "output_type": "display_data"
        }
      ],
      "source": [
        "ax = sns.barplot(data=class_, x='Values', y='Count', color='dodgerblue')\n",
        "ax.bar_label(ax.containers[0], fmt='%i', padding=-25, color='white', fontweight='bold')\n",
        "plt.title('CLASS', fontweight='bold')\n",
        "plt.show()"
      ]
    },
    {
      "cell_type": "markdown",
      "metadata": {
        "id": "stDKzSlYwAn2"
      },
      "source": [
        "## Feature Engineering"
      ]
    },
    {
      "cell_type": "markdown",
      "metadata": {
        "id": "0tZ7RMXjpJmG"
      },
      "source": [
        "### Normalizing"
      ]
    },
    {
      "cell_type": "code",
      "execution_count": 39,
      "metadata": {
        "colab": {
          "base_uri": "https://localhost:8080/",
          "height": 424
        },
        "id": "65fEQJYPylrd",
        "outputId": "51ce0fd6-6f17-49af-9bb1-4ec3bf1dd626"
      },
      "outputs": [
        {
          "data": {
            "text/html": [
              "\n",
              "\n",
              "  <div id=\"df-d52b8b25-354e-44eb-a197-28b09a324a3b\">\n",
              "    <div class=\"colab-df-container\">\n",
              "      <div>\n",
              "<style scoped>\n",
              "    .dataframe tbody tr th:only-of-type {\n",
              "        vertical-align: middle;\n",
              "    }\n",
              "\n",
              "    .dataframe tbody tr th {\n",
              "        vertical-align: top;\n",
              "    }\n",
              "\n",
              "    .dataframe thead th {\n",
              "        text-align: right;\n",
              "    }\n",
              "</style>\n",
              "<table border=\"1\" class=\"dataframe\">\n",
              "  <thead>\n",
              "    <tr style=\"text-align: right;\">\n",
              "      <th></th>\n",
              "      <th>AGE</th>\n",
              "      <th>Urea</th>\n",
              "      <th>Cr</th>\n",
              "      <th>HbA1c</th>\n",
              "      <th>Chol</th>\n",
              "      <th>TG</th>\n",
              "      <th>HDL</th>\n",
              "      <th>LDL</th>\n",
              "      <th>VLDL</th>\n",
              "      <th>BMI</th>\n",
              "      <th>Gender</th>\n",
              "      <th>CLASS</th>\n",
              "    </tr>\n",
              "  </thead>\n",
              "  <tbody>\n",
              "    <tr>\n",
              "      <th>0</th>\n",
              "      <td>0.508475</td>\n",
              "      <td>0.109375</td>\n",
              "      <td>0.050378</td>\n",
              "      <td>0.264901</td>\n",
              "      <td>0.407767</td>\n",
              "      <td>0.044444</td>\n",
              "      <td>0.226804</td>\n",
              "      <td>0.114583</td>\n",
              "      <td>0.011461</td>\n",
              "      <td>0.173913</td>\n",
              "      <td>0</td>\n",
              "      <td>0</td>\n",
              "    </tr>\n",
              "    <tr>\n",
              "      <th>1</th>\n",
              "      <td>0.101695</td>\n",
              "      <td>0.104167</td>\n",
              "      <td>0.070529</td>\n",
              "      <td>0.264901</td>\n",
              "      <td>0.359223</td>\n",
              "      <td>0.081481</td>\n",
              "      <td>0.092784</td>\n",
              "      <td>0.187500</td>\n",
              "      <td>0.014327</td>\n",
              "      <td>0.139130</td>\n",
              "      <td>1</td>\n",
              "      <td>0</td>\n",
              "    </tr>\n",
              "    <tr>\n",
              "      <th>2</th>\n",
              "      <td>0.220339</td>\n",
              "      <td>0.171875</td>\n",
              "      <td>0.050378</td>\n",
              "      <td>0.264901</td>\n",
              "      <td>0.475728</td>\n",
              "      <td>0.051852</td>\n",
              "      <td>0.061856</td>\n",
              "      <td>0.177083</td>\n",
              "      <td>0.008596</td>\n",
              "      <td>0.069565</td>\n",
              "      <td>1</td>\n",
              "      <td>0</td>\n",
              "    </tr>\n",
              "    <tr>\n",
              "      <th>3</th>\n",
              "      <td>0.423729</td>\n",
              "      <td>0.046875</td>\n",
              "      <td>0.022670</td>\n",
              "      <td>0.205298</td>\n",
              "      <td>0.281553</td>\n",
              "      <td>0.051852</td>\n",
              "      <td>0.082474</td>\n",
              "      <td>0.125000</td>\n",
              "      <td>0.008596</td>\n",
              "      <td>0.069565</td>\n",
              "      <td>0</td>\n",
              "      <td>0</td>\n",
              "    </tr>\n",
              "    <tr>\n",
              "      <th>4</th>\n",
              "      <td>0.508475</td>\n",
              "      <td>0.039062</td>\n",
              "      <td>0.055416</td>\n",
              "      <td>0.205298</td>\n",
              "      <td>0.349515</td>\n",
              "      <td>0.074074</td>\n",
              "      <td>0.072165</td>\n",
              "      <td>0.187500</td>\n",
              "      <td>0.014327</td>\n",
              "      <td>0.173913</td>\n",
              "      <td>0</td>\n",
              "      <td>0</td>\n",
              "    </tr>\n",
              "    <tr>\n",
              "      <th>...</th>\n",
              "      <td>...</td>\n",
              "      <td>...</td>\n",
              "      <td>...</td>\n",
              "      <td>...</td>\n",
              "      <td>...</td>\n",
              "      <td>...</td>\n",
              "      <td>...</td>\n",
              "      <td>...</td>\n",
              "      <td>...</td>\n",
              "      <td>...</td>\n",
              "      <td>...</td>\n",
              "      <td>...</td>\n",
              "    </tr>\n",
              "    <tr>\n",
              "      <th>821</th>\n",
              "      <td>0.627119</td>\n",
              "      <td>0.093750</td>\n",
              "      <td>0.080605</td>\n",
              "      <td>0.556291</td>\n",
              "      <td>0.514563</td>\n",
              "      <td>0.222222</td>\n",
              "      <td>0.082474</td>\n",
              "      <td>0.114583</td>\n",
              "      <td>0.034384</td>\n",
              "      <td>0.347826</td>\n",
              "      <td>0</td>\n",
              "      <td>1</td>\n",
              "    </tr>\n",
              "    <tr>\n",
              "      <th>822</th>\n",
              "      <td>0.593220</td>\n",
              "      <td>0.067708</td>\n",
              "      <td>0.041562</td>\n",
              "      <td>0.503311</td>\n",
              "      <td>0.485437</td>\n",
              "      <td>0.162963</td>\n",
              "      <td>0.175258</td>\n",
              "      <td>0.270833</td>\n",
              "      <td>0.017192</td>\n",
              "      <td>0.278261</td>\n",
              "      <td>1</td>\n",
              "      <td>1</td>\n",
              "    </tr>\n",
              "    <tr>\n",
              "      <th>823</th>\n",
              "      <td>0.135593</td>\n",
              "      <td>0.078125</td>\n",
              "      <td>0.069270</td>\n",
              "      <td>0.503311</td>\n",
              "      <td>0.436893</td>\n",
              "      <td>0.118519</td>\n",
              "      <td>0.092784</td>\n",
              "      <td>0.239583</td>\n",
              "      <td>0.020057</td>\n",
              "      <td>0.626087</td>\n",
              "      <td>1</td>\n",
              "      <td>1</td>\n",
              "    </tr>\n",
              "    <tr>\n",
              "      <th>824</th>\n",
              "      <td>0.830508</td>\n",
              "      <td>0.255208</td>\n",
              "      <td>0.225441</td>\n",
              "      <td>0.450331</td>\n",
              "      <td>0.475728</td>\n",
              "      <td>0.118519</td>\n",
              "      <td>0.103093</td>\n",
              "      <td>0.281250</td>\n",
              "      <td>0.017192</td>\n",
              "      <td>0.626087</td>\n",
              "      <td>1</td>\n",
              "      <td>1</td>\n",
              "    </tr>\n",
              "    <tr>\n",
              "      <th>825</th>\n",
              "      <td>0.864407</td>\n",
              "      <td>0.273438</td>\n",
              "      <td>0.114610</td>\n",
              "      <td>0.403974</td>\n",
              "      <td>0.728155</td>\n",
              "      <td>0.103704</td>\n",
              "      <td>0.103093</td>\n",
              "      <td>0.156250</td>\n",
              "      <td>0.014327</td>\n",
              "      <td>0.382609</td>\n",
              "      <td>1</td>\n",
              "      <td>1</td>\n",
              "    </tr>\n",
              "  </tbody>\n",
              "</table>\n",
              "<p>826 rows × 12 columns</p>\n",
              "</div>\n",
              "      <button class=\"colab-df-convert\" onclick=\"convertToInteractive('df-d52b8b25-354e-44eb-a197-28b09a324a3b')\"\n",
              "              title=\"Convert this dataframe to an interactive table.\"\n",
              "              style=\"display:none;\">\n",
              "\n",
              "  <svg xmlns=\"http://www.w3.org/2000/svg\" height=\"24px\"viewBox=\"0 0 24 24\"\n",
              "       width=\"24px\">\n",
              "    <path d=\"M0 0h24v24H0V0z\" fill=\"none\"/>\n",
              "    <path d=\"M18.56 5.44l.94 2.06.94-2.06 2.06-.94-2.06-.94-.94-2.06-.94 2.06-2.06.94zm-11 1L8.5 8.5l.94-2.06 2.06-.94-2.06-.94L8.5 2.5l-.94 2.06-2.06.94zm10 10l.94 2.06.94-2.06 2.06-.94-2.06-.94-.94-2.06-.94 2.06-2.06.94z\"/><path d=\"M17.41 7.96l-1.37-1.37c-.4-.4-.92-.59-1.43-.59-.52 0-1.04.2-1.43.59L10.3 9.45l-7.72 7.72c-.78.78-.78 2.05 0 2.83L4 21.41c.39.39.9.59 1.41.59.51 0 1.02-.2 1.41-.59l7.78-7.78 2.81-2.81c.8-.78.8-2.07 0-2.86zM5.41 20L4 18.59l7.72-7.72 1.47 1.35L5.41 20z\"/>\n",
              "  </svg>\n",
              "      </button>\n",
              "\n",
              "\n",
              "\n",
              "    <div id=\"df-19688ee0-2870-49e3-a772-fc56ba2a4c87\">\n",
              "      <button class=\"colab-df-quickchart\" onclick=\"quickchart('df-19688ee0-2870-49e3-a772-fc56ba2a4c87')\"\n",
              "              title=\"Suggest charts.\"\n",
              "              style=\"display:none;\">\n",
              "\n",
              "<svg xmlns=\"http://www.w3.org/2000/svg\" height=\"24px\"viewBox=\"0 0 24 24\"\n",
              "     width=\"24px\">\n",
              "    <g>\n",
              "        <path d=\"M19 3H5c-1.1 0-2 .9-2 2v14c0 1.1.9 2 2 2h14c1.1 0 2-.9 2-2V5c0-1.1-.9-2-2-2zM9 17H7v-7h2v7zm4 0h-2V7h2v10zm4 0h-2v-4h2v4z\"/>\n",
              "    </g>\n",
              "</svg>\n",
              "      </button>\n",
              "    </div>\n",
              "\n",
              "<style>\n",
              "  .colab-df-quickchart {\n",
              "    background-color: #E8F0FE;\n",
              "    border: none;\n",
              "    border-radius: 50%;\n",
              "    cursor: pointer;\n",
              "    display: none;\n",
              "    fill: #1967D2;\n",
              "    height: 32px;\n",
              "    padding: 0 0 0 0;\n",
              "    width: 32px;\n",
              "  }\n",
              "\n",
              "  .colab-df-quickchart:hover {\n",
              "    background-color: #E2EBFA;\n",
              "    box-shadow: 0px 1px 2px rgba(60, 64, 67, 0.3), 0px 1px 3px 1px rgba(60, 64, 67, 0.15);\n",
              "    fill: #174EA6;\n",
              "  }\n",
              "\n",
              "  [theme=dark] .colab-df-quickchart {\n",
              "    background-color: #3B4455;\n",
              "    fill: #D2E3FC;\n",
              "  }\n",
              "\n",
              "  [theme=dark] .colab-df-quickchart:hover {\n",
              "    background-color: #434B5C;\n",
              "    box-shadow: 0px 1px 3px 1px rgba(0, 0, 0, 0.15);\n",
              "    filter: drop-shadow(0px 1px 2px rgba(0, 0, 0, 0.3));\n",
              "    fill: #FFFFFF;\n",
              "  }\n",
              "</style>\n",
              "\n",
              "    <script>\n",
              "      async function quickchart(key) {\n",
              "        const containerElement = document.querySelector('#' + key);\n",
              "        const charts = await google.colab.kernel.invokeFunction(\n",
              "            'suggestCharts', [key], {});\n",
              "      }\n",
              "    </script>\n",
              "\n",
              "      <script>\n",
              "\n",
              "function displayQuickchartButton(domScope) {\n",
              "  let quickchartButtonEl =\n",
              "    domScope.querySelector('#df-19688ee0-2870-49e3-a772-fc56ba2a4c87 button.colab-df-quickchart');\n",
              "  quickchartButtonEl.style.display =\n",
              "    google.colab.kernel.accessAllowed ? 'block' : 'none';\n",
              "}\n",
              "\n",
              "        displayQuickchartButton(document);\n",
              "      </script>\n",
              "      <style>\n",
              "    .colab-df-container {\n",
              "      display:flex;\n",
              "      flex-wrap:wrap;\n",
              "      gap: 12px;\n",
              "    }\n",
              "\n",
              "    .colab-df-convert {\n",
              "      background-color: #E8F0FE;\n",
              "      border: none;\n",
              "      border-radius: 50%;\n",
              "      cursor: pointer;\n",
              "      display: none;\n",
              "      fill: #1967D2;\n",
              "      height: 32px;\n",
              "      padding: 0 0 0 0;\n",
              "      width: 32px;\n",
              "    }\n",
              "\n",
              "    .colab-df-convert:hover {\n",
              "      background-color: #E2EBFA;\n",
              "      box-shadow: 0px 1px 2px rgba(60, 64, 67, 0.3), 0px 1px 3px 1px rgba(60, 64, 67, 0.15);\n",
              "      fill: #174EA6;\n",
              "    }\n",
              "\n",
              "    [theme=dark] .colab-df-convert {\n",
              "      background-color: #3B4455;\n",
              "      fill: #D2E3FC;\n",
              "    }\n",
              "\n",
              "    [theme=dark] .colab-df-convert:hover {\n",
              "      background-color: #434B5C;\n",
              "      box-shadow: 0px 1px 3px 1px rgba(0, 0, 0, 0.15);\n",
              "      filter: drop-shadow(0px 1px 2px rgba(0, 0, 0, 0.3));\n",
              "      fill: #FFFFFF;\n",
              "    }\n",
              "  </style>\n",
              "\n",
              "      <script>\n",
              "        const buttonEl =\n",
              "          document.querySelector('#df-d52b8b25-354e-44eb-a197-28b09a324a3b button.colab-df-convert');\n",
              "        buttonEl.style.display =\n",
              "          google.colab.kernel.accessAllowed ? 'block' : 'none';\n",
              "\n",
              "        async function convertToInteractive(key) {\n",
              "          const element = document.querySelector('#df-d52b8b25-354e-44eb-a197-28b09a324a3b');\n",
              "          const dataTable =\n",
              "            await google.colab.kernel.invokeFunction('convertToInteractive',\n",
              "                                                     [key], {});\n",
              "          if (!dataTable) return;\n",
              "\n",
              "          const docLinkHtml = 'Like what you see? Visit the ' +\n",
              "            '<a target=\"_blank\" href=https://colab.research.google.com/notebooks/data_table.ipynb>data table notebook</a>'\n",
              "            + ' to learn more about interactive tables.';\n",
              "          element.innerHTML = '';\n",
              "          dataTable['output_type'] = 'display_data';\n",
              "          await google.colab.output.renderOutput(dataTable, element);\n",
              "          const docLink = document.createElement('div');\n",
              "          docLink.innerHTML = docLinkHtml;\n",
              "          element.appendChild(docLink);\n",
              "        }\n",
              "      </script>\n",
              "    </div>\n",
              "  </div>\n"
            ],
            "text/plain": [
              "          AGE      Urea        Cr     HbA1c      Chol        TG       HDL  \\\n",
              "0    0.508475  0.109375  0.050378  0.264901  0.407767  0.044444  0.226804   \n",
              "1    0.101695  0.104167  0.070529  0.264901  0.359223  0.081481  0.092784   \n",
              "2    0.220339  0.171875  0.050378  0.264901  0.475728  0.051852  0.061856   \n",
              "3    0.423729  0.046875  0.022670  0.205298  0.281553  0.051852  0.082474   \n",
              "4    0.508475  0.039062  0.055416  0.205298  0.349515  0.074074  0.072165   \n",
              "..        ...       ...       ...       ...       ...       ...       ...   \n",
              "821  0.627119  0.093750  0.080605  0.556291  0.514563  0.222222  0.082474   \n",
              "822  0.593220  0.067708  0.041562  0.503311  0.485437  0.162963  0.175258   \n",
              "823  0.135593  0.078125  0.069270  0.503311  0.436893  0.118519  0.092784   \n",
              "824  0.830508  0.255208  0.225441  0.450331  0.475728  0.118519  0.103093   \n",
              "825  0.864407  0.273438  0.114610  0.403974  0.728155  0.103704  0.103093   \n",
              "\n",
              "          LDL      VLDL       BMI  Gender  CLASS  \n",
              "0    0.114583  0.011461  0.173913       0      0  \n",
              "1    0.187500  0.014327  0.139130       1      0  \n",
              "2    0.177083  0.008596  0.069565       1      0  \n",
              "3    0.125000  0.008596  0.069565       0      0  \n",
              "4    0.187500  0.014327  0.173913       0      0  \n",
              "..        ...       ...       ...     ...    ...  \n",
              "821  0.114583  0.034384  0.347826       0      1  \n",
              "822  0.270833  0.017192  0.278261       1      1  \n",
              "823  0.239583  0.020057  0.626087       1      1  \n",
              "824  0.281250  0.017192  0.626087       1      1  \n",
              "825  0.156250  0.014327  0.382609       1      1  \n",
              "\n",
              "[826 rows x 12 columns]"
            ]
          },
          "execution_count": 39,
          "metadata": {},
          "output_type": "execute_result"
        }
      ],
      "source": [
        "norm_col = ['AGE', 'Urea', 'Cr', 'HbA1c', 'Chol', 'TG', 'HDL', 'LDL', 'VLDL', 'BMI']\n",
        "scaler = MinMaxScaler()\n",
        "data_scaled = scaler.fit_transform(data[norm_col])\n",
        "data_scaled = pd.DataFrame(data_scaled, columns=norm_col)\n",
        "data = pd.concat([data_scaled, data[['Gender', 'CLASS']]], axis=1)\n",
        "data"
      ]
    },
    {
      "cell_type": "markdown",
      "metadata": {
        "id": "QbVahoWx5mJN"
      },
      "source": [
        "### Train-Test Split"
      ]
    },
    {
      "cell_type": "code",
      "execution_count": 40,
      "metadata": {
        "colab": {
          "base_uri": "https://localhost:8080/"
        },
        "id": "F25yWukQ5oFF",
        "outputId": "07949da4-7b24-46fa-abec-720758510997"
      },
      "outputs": [
        {
          "name": "stdout",
          "output_type": "stream",
          "text": [
            "Jumlah Baris Data Latih: 660\n",
            "Jumlah Baris Data Uji: 166\n"
          ]
        }
      ],
      "source": [
        "X = data.drop('CLASS', axis=1)\n",
        "y = data['CLASS']\n",
        "\n",
        "X_train, X_test, y_train, y_test = train_test_split(X, y,\n",
        "                                                    test_size=0.2,\n",
        "                                                    stratify=y,\n",
        "                                                    random_state=42)\n",
        "\n",
        "# X_train.shape, X_test.shape\n",
        "\n",
        "print('Jumlah Baris Data Latih:', len(X_train))\n",
        "print('Jumlah Baris Data Uji:', len(X_test))"
      ]
    },
    {
      "cell_type": "markdown",
      "metadata": {
        "id": "X53X1mm15Ho8"
      },
      "source": [
        "### Resampling Data for Imbalance Dataset"
      ]
    },
    {
      "cell_type": "code",
      "execution_count": 41,
      "metadata": {
        "colab": {
          "base_uri": "https://localhost:8080/",
          "height": 242
        },
        "id": "YLgkaWD_5O8h",
        "outputId": "bb67579e-6b44-4c9d-d514-0d0ec042def4"
      },
      "outputs": [
        {
          "name": "stdout",
          "output_type": "stream",
          "text": [
            "Original Data\n"
          ]
        },
        {
          "data": {
            "text/html": [
              "\n",
              "\n",
              "  <div id=\"df-296e5d10-3ef1-4d42-854e-9d5b0498f0b9\">\n",
              "    <div class=\"colab-df-container\">\n",
              "      <div>\n",
              "<style scoped>\n",
              "    .dataframe tbody tr th:only-of-type {\n",
              "        vertical-align: middle;\n",
              "    }\n",
              "\n",
              "    .dataframe tbody tr th {\n",
              "        vertical-align: top;\n",
              "    }\n",
              "\n",
              "    .dataframe thead th {\n",
              "        text-align: right;\n",
              "    }\n",
              "</style>\n",
              "<table border=\"1\" class=\"dataframe\">\n",
              "  <thead>\n",
              "    <tr style=\"text-align: right;\">\n",
              "      <th></th>\n",
              "      <th>Values</th>\n",
              "      <th>Count</th>\n",
              "      <th>%</th>\n",
              "    </tr>\n",
              "  </thead>\n",
              "  <tbody>\n",
              "    <tr>\n",
              "      <th>0</th>\n",
              "      <td>1</td>\n",
              "      <td>583</td>\n",
              "      <td>88.333</td>\n",
              "    </tr>\n",
              "    <tr>\n",
              "      <th>1</th>\n",
              "      <td>0</td>\n",
              "      <td>77</td>\n",
              "      <td>11.667</td>\n",
              "    </tr>\n",
              "  </tbody>\n",
              "</table>\n",
              "</div>\n",
              "      <button class=\"colab-df-convert\" onclick=\"convertToInteractive('df-296e5d10-3ef1-4d42-854e-9d5b0498f0b9')\"\n",
              "              title=\"Convert this dataframe to an interactive table.\"\n",
              "              style=\"display:none;\">\n",
              "\n",
              "  <svg xmlns=\"http://www.w3.org/2000/svg\" height=\"24px\"viewBox=\"0 0 24 24\"\n",
              "       width=\"24px\">\n",
              "    <path d=\"M0 0h24v24H0V0z\" fill=\"none\"/>\n",
              "    <path d=\"M18.56 5.44l.94 2.06.94-2.06 2.06-.94-2.06-.94-.94-2.06-.94 2.06-2.06.94zm-11 1L8.5 8.5l.94-2.06 2.06-.94-2.06-.94L8.5 2.5l-.94 2.06-2.06.94zm10 10l.94 2.06.94-2.06 2.06-.94-2.06-.94-.94-2.06-.94 2.06-2.06.94z\"/><path d=\"M17.41 7.96l-1.37-1.37c-.4-.4-.92-.59-1.43-.59-.52 0-1.04.2-1.43.59L10.3 9.45l-7.72 7.72c-.78.78-.78 2.05 0 2.83L4 21.41c.39.39.9.59 1.41.59.51 0 1.02-.2 1.41-.59l7.78-7.78 2.81-2.81c.8-.78.8-2.07 0-2.86zM5.41 20L4 18.59l7.72-7.72 1.47 1.35L5.41 20z\"/>\n",
              "  </svg>\n",
              "      </button>\n",
              "\n",
              "\n",
              "\n",
              "    <div id=\"df-c2602184-299c-444c-ad31-e0eafc84120b\">\n",
              "      <button class=\"colab-df-quickchart\" onclick=\"quickchart('df-c2602184-299c-444c-ad31-e0eafc84120b')\"\n",
              "              title=\"Suggest charts.\"\n",
              "              style=\"display:none;\">\n",
              "\n",
              "<svg xmlns=\"http://www.w3.org/2000/svg\" height=\"24px\"viewBox=\"0 0 24 24\"\n",
              "     width=\"24px\">\n",
              "    <g>\n",
              "        <path d=\"M19 3H5c-1.1 0-2 .9-2 2v14c0 1.1.9 2 2 2h14c1.1 0 2-.9 2-2V5c0-1.1-.9-2-2-2zM9 17H7v-7h2v7zm4 0h-2V7h2v10zm4 0h-2v-4h2v4z\"/>\n",
              "    </g>\n",
              "</svg>\n",
              "      </button>\n",
              "    </div>\n",
              "\n",
              "<style>\n",
              "  .colab-df-quickchart {\n",
              "    background-color: #E8F0FE;\n",
              "    border: none;\n",
              "    border-radius: 50%;\n",
              "    cursor: pointer;\n",
              "    display: none;\n",
              "    fill: #1967D2;\n",
              "    height: 32px;\n",
              "    padding: 0 0 0 0;\n",
              "    width: 32px;\n",
              "  }\n",
              "\n",
              "  .colab-df-quickchart:hover {\n",
              "    background-color: #E2EBFA;\n",
              "    box-shadow: 0px 1px 2px rgba(60, 64, 67, 0.3), 0px 1px 3px 1px rgba(60, 64, 67, 0.15);\n",
              "    fill: #174EA6;\n",
              "  }\n",
              "\n",
              "  [theme=dark] .colab-df-quickchart {\n",
              "    background-color: #3B4455;\n",
              "    fill: #D2E3FC;\n",
              "  }\n",
              "\n",
              "  [theme=dark] .colab-df-quickchart:hover {\n",
              "    background-color: #434B5C;\n",
              "    box-shadow: 0px 1px 3px 1px rgba(0, 0, 0, 0.15);\n",
              "    filter: drop-shadow(0px 1px 2px rgba(0, 0, 0, 0.3));\n",
              "    fill: #FFFFFF;\n",
              "  }\n",
              "</style>\n",
              "\n",
              "    <script>\n",
              "      async function quickchart(key) {\n",
              "        const containerElement = document.querySelector('#' + key);\n",
              "        const charts = await google.colab.kernel.invokeFunction(\n",
              "            'suggestCharts', [key], {});\n",
              "      }\n",
              "    </script>\n",
              "\n",
              "      <script>\n",
              "\n",
              "function displayQuickchartButton(domScope) {\n",
              "  let quickchartButtonEl =\n",
              "    domScope.querySelector('#df-c2602184-299c-444c-ad31-e0eafc84120b button.colab-df-quickchart');\n",
              "  quickchartButtonEl.style.display =\n",
              "    google.colab.kernel.accessAllowed ? 'block' : 'none';\n",
              "}\n",
              "\n",
              "        displayQuickchartButton(document);\n",
              "      </script>\n",
              "      <style>\n",
              "    .colab-df-container {\n",
              "      display:flex;\n",
              "      flex-wrap:wrap;\n",
              "      gap: 12px;\n",
              "    }\n",
              "\n",
              "    .colab-df-convert {\n",
              "      background-color: #E8F0FE;\n",
              "      border: none;\n",
              "      border-radius: 50%;\n",
              "      cursor: pointer;\n",
              "      display: none;\n",
              "      fill: #1967D2;\n",
              "      height: 32px;\n",
              "      padding: 0 0 0 0;\n",
              "      width: 32px;\n",
              "    }\n",
              "\n",
              "    .colab-df-convert:hover {\n",
              "      background-color: #E2EBFA;\n",
              "      box-shadow: 0px 1px 2px rgba(60, 64, 67, 0.3), 0px 1px 3px 1px rgba(60, 64, 67, 0.15);\n",
              "      fill: #174EA6;\n",
              "    }\n",
              "\n",
              "    [theme=dark] .colab-df-convert {\n",
              "      background-color: #3B4455;\n",
              "      fill: #D2E3FC;\n",
              "    }\n",
              "\n",
              "    [theme=dark] .colab-df-convert:hover {\n",
              "      background-color: #434B5C;\n",
              "      box-shadow: 0px 1px 3px 1px rgba(0, 0, 0, 0.15);\n",
              "      filter: drop-shadow(0px 1px 2px rgba(0, 0, 0, 0.3));\n",
              "      fill: #FFFFFF;\n",
              "    }\n",
              "  </style>\n",
              "\n",
              "      <script>\n",
              "        const buttonEl =\n",
              "          document.querySelector('#df-296e5d10-3ef1-4d42-854e-9d5b0498f0b9 button.colab-df-convert');\n",
              "        buttonEl.style.display =\n",
              "          google.colab.kernel.accessAllowed ? 'block' : 'none';\n",
              "\n",
              "        async function convertToInteractive(key) {\n",
              "          const element = document.querySelector('#df-296e5d10-3ef1-4d42-854e-9d5b0498f0b9');\n",
              "          const dataTable =\n",
              "            await google.colab.kernel.invokeFunction('convertToInteractive',\n",
              "                                                     [key], {});\n",
              "          if (!dataTable) return;\n",
              "\n",
              "          const docLinkHtml = 'Like what you see? Visit the ' +\n",
              "            '<a target=\"_blank\" href=https://colab.research.google.com/notebooks/data_table.ipynb>data table notebook</a>'\n",
              "            + ' to learn more about interactive tables.';\n",
              "          element.innerHTML = '';\n",
              "          dataTable['output_type'] = 'display_data';\n",
              "          await google.colab.output.renderOutput(dataTable, element);\n",
              "          const docLink = document.createElement('div');\n",
              "          docLink.innerHTML = docLinkHtml;\n",
              "          element.appendChild(docLink);\n",
              "        }\n",
              "      </script>\n",
              "    </div>\n",
              "  </div>\n"
            ],
            "text/plain": [
              "   Values  Count       %\n",
              "0       1    583  88.333\n",
              "1       0     77  11.667"
            ]
          },
          "metadata": {},
          "output_type": "display_data"
        },
        {
          "name": "stdout",
          "output_type": "stream",
          "text": [
            "SMOTE\n"
          ]
        },
        {
          "data": {
            "text/html": [
              "\n",
              "\n",
              "  <div id=\"df-8f7f8052-4df7-4ffe-87fd-28ba81275dfc\">\n",
              "    <div class=\"colab-df-container\">\n",
              "      <div>\n",
              "<style scoped>\n",
              "    .dataframe tbody tr th:only-of-type {\n",
              "        vertical-align: middle;\n",
              "    }\n",
              "\n",
              "    .dataframe tbody tr th {\n",
              "        vertical-align: top;\n",
              "    }\n",
              "\n",
              "    .dataframe thead th {\n",
              "        text-align: right;\n",
              "    }\n",
              "</style>\n",
              "<table border=\"1\" class=\"dataframe\">\n",
              "  <thead>\n",
              "    <tr style=\"text-align: right;\">\n",
              "      <th></th>\n",
              "      <th>Values</th>\n",
              "      <th>Count</th>\n",
              "      <th>%</th>\n",
              "    </tr>\n",
              "  </thead>\n",
              "  <tbody>\n",
              "    <tr>\n",
              "      <th>0</th>\n",
              "      <td>1</td>\n",
              "      <td>583</td>\n",
              "      <td>66.705</td>\n",
              "    </tr>\n",
              "    <tr>\n",
              "      <th>1</th>\n",
              "      <td>0</td>\n",
              "      <td>291</td>\n",
              "      <td>33.295</td>\n",
              "    </tr>\n",
              "  </tbody>\n",
              "</table>\n",
              "</div>\n",
              "      <button class=\"colab-df-convert\" onclick=\"convertToInteractive('df-8f7f8052-4df7-4ffe-87fd-28ba81275dfc')\"\n",
              "              title=\"Convert this dataframe to an interactive table.\"\n",
              "              style=\"display:none;\">\n",
              "\n",
              "  <svg xmlns=\"http://www.w3.org/2000/svg\" height=\"24px\"viewBox=\"0 0 24 24\"\n",
              "       width=\"24px\">\n",
              "    <path d=\"M0 0h24v24H0V0z\" fill=\"none\"/>\n",
              "    <path d=\"M18.56 5.44l.94 2.06.94-2.06 2.06-.94-2.06-.94-.94-2.06-.94 2.06-2.06.94zm-11 1L8.5 8.5l.94-2.06 2.06-.94-2.06-.94L8.5 2.5l-.94 2.06-2.06.94zm10 10l.94 2.06.94-2.06 2.06-.94-2.06-.94-.94-2.06-.94 2.06-2.06.94z\"/><path d=\"M17.41 7.96l-1.37-1.37c-.4-.4-.92-.59-1.43-.59-.52 0-1.04.2-1.43.59L10.3 9.45l-7.72 7.72c-.78.78-.78 2.05 0 2.83L4 21.41c.39.39.9.59 1.41.59.51 0 1.02-.2 1.41-.59l7.78-7.78 2.81-2.81c.8-.78.8-2.07 0-2.86zM5.41 20L4 18.59l7.72-7.72 1.47 1.35L5.41 20z\"/>\n",
              "  </svg>\n",
              "      </button>\n",
              "\n",
              "\n",
              "\n",
              "    <div id=\"df-1a95d43a-c039-4ab3-aa01-679674bbc313\">\n",
              "      <button class=\"colab-df-quickchart\" onclick=\"quickchart('df-1a95d43a-c039-4ab3-aa01-679674bbc313')\"\n",
              "              title=\"Suggest charts.\"\n",
              "              style=\"display:none;\">\n",
              "\n",
              "<svg xmlns=\"http://www.w3.org/2000/svg\" height=\"24px\"viewBox=\"0 0 24 24\"\n",
              "     width=\"24px\">\n",
              "    <g>\n",
              "        <path d=\"M19 3H5c-1.1 0-2 .9-2 2v14c0 1.1.9 2 2 2h14c1.1 0 2-.9 2-2V5c0-1.1-.9-2-2-2zM9 17H7v-7h2v7zm4 0h-2V7h2v10zm4 0h-2v-4h2v4z\"/>\n",
              "    </g>\n",
              "</svg>\n",
              "      </button>\n",
              "    </div>\n",
              "\n",
              "<style>\n",
              "  .colab-df-quickchart {\n",
              "    background-color: #E8F0FE;\n",
              "    border: none;\n",
              "    border-radius: 50%;\n",
              "    cursor: pointer;\n",
              "    display: none;\n",
              "    fill: #1967D2;\n",
              "    height: 32px;\n",
              "    padding: 0 0 0 0;\n",
              "    width: 32px;\n",
              "  }\n",
              "\n",
              "  .colab-df-quickchart:hover {\n",
              "    background-color: #E2EBFA;\n",
              "    box-shadow: 0px 1px 2px rgba(60, 64, 67, 0.3), 0px 1px 3px 1px rgba(60, 64, 67, 0.15);\n",
              "    fill: #174EA6;\n",
              "  }\n",
              "\n",
              "  [theme=dark] .colab-df-quickchart {\n",
              "    background-color: #3B4455;\n",
              "    fill: #D2E3FC;\n",
              "  }\n",
              "\n",
              "  [theme=dark] .colab-df-quickchart:hover {\n",
              "    background-color: #434B5C;\n",
              "    box-shadow: 0px 1px 3px 1px rgba(0, 0, 0, 0.15);\n",
              "    filter: drop-shadow(0px 1px 2px rgba(0, 0, 0, 0.3));\n",
              "    fill: #FFFFFF;\n",
              "  }\n",
              "</style>\n",
              "\n",
              "    <script>\n",
              "      async function quickchart(key) {\n",
              "        const containerElement = document.querySelector('#' + key);\n",
              "        const charts = await google.colab.kernel.invokeFunction(\n",
              "            'suggestCharts', [key], {});\n",
              "      }\n",
              "    </script>\n",
              "\n",
              "      <script>\n",
              "\n",
              "function displayQuickchartButton(domScope) {\n",
              "  let quickchartButtonEl =\n",
              "    domScope.querySelector('#df-1a95d43a-c039-4ab3-aa01-679674bbc313 button.colab-df-quickchart');\n",
              "  quickchartButtonEl.style.display =\n",
              "    google.colab.kernel.accessAllowed ? 'block' : 'none';\n",
              "}\n",
              "\n",
              "        displayQuickchartButton(document);\n",
              "      </script>\n",
              "      <style>\n",
              "    .colab-df-container {\n",
              "      display:flex;\n",
              "      flex-wrap:wrap;\n",
              "      gap: 12px;\n",
              "    }\n",
              "\n",
              "    .colab-df-convert {\n",
              "      background-color: #E8F0FE;\n",
              "      border: none;\n",
              "      border-radius: 50%;\n",
              "      cursor: pointer;\n",
              "      display: none;\n",
              "      fill: #1967D2;\n",
              "      height: 32px;\n",
              "      padding: 0 0 0 0;\n",
              "      width: 32px;\n",
              "    }\n",
              "\n",
              "    .colab-df-convert:hover {\n",
              "      background-color: #E2EBFA;\n",
              "      box-shadow: 0px 1px 2px rgba(60, 64, 67, 0.3), 0px 1px 3px 1px rgba(60, 64, 67, 0.15);\n",
              "      fill: #174EA6;\n",
              "    }\n",
              "\n",
              "    [theme=dark] .colab-df-convert {\n",
              "      background-color: #3B4455;\n",
              "      fill: #D2E3FC;\n",
              "    }\n",
              "\n",
              "    [theme=dark] .colab-df-convert:hover {\n",
              "      background-color: #434B5C;\n",
              "      box-shadow: 0px 1px 3px 1px rgba(0, 0, 0, 0.15);\n",
              "      filter: drop-shadow(0px 1px 2px rgba(0, 0, 0, 0.3));\n",
              "      fill: #FFFFFF;\n",
              "    }\n",
              "  </style>\n",
              "\n",
              "      <script>\n",
              "        const buttonEl =\n",
              "          document.querySelector('#df-8f7f8052-4df7-4ffe-87fd-28ba81275dfc button.colab-df-convert');\n",
              "        buttonEl.style.display =\n",
              "          google.colab.kernel.accessAllowed ? 'block' : 'none';\n",
              "\n",
              "        async function convertToInteractive(key) {\n",
              "          const element = document.querySelector('#df-8f7f8052-4df7-4ffe-87fd-28ba81275dfc');\n",
              "          const dataTable =\n",
              "            await google.colab.kernel.invokeFunction('convertToInteractive',\n",
              "                                                     [key], {});\n",
              "          if (!dataTable) return;\n",
              "\n",
              "          const docLinkHtml = 'Like what you see? Visit the ' +\n",
              "            '<a target=\"_blank\" href=https://colab.research.google.com/notebooks/data_table.ipynb>data table notebook</a>'\n",
              "            + ' to learn more about interactive tables.';\n",
              "          element.innerHTML = '';\n",
              "          dataTable['output_type'] = 'display_data';\n",
              "          await google.colab.output.renderOutput(dataTable, element);\n",
              "          const docLink = document.createElement('div');\n",
              "          docLink.innerHTML = docLinkHtml;\n",
              "          element.appendChild(docLink);\n",
              "        }\n",
              "      </script>\n",
              "    </div>\n",
              "  </div>\n"
            ],
            "text/plain": [
              "   Values  Count       %\n",
              "0       1    583  66.705\n",
              "1       0    291  33.295"
            ]
          },
          "metadata": {},
          "output_type": "display_data"
        }
      ],
      "source": [
        "# Initialize & fit resample\n",
        "smote = SMOTE(sampling_strategy=0.5, random_state=42)\n",
        "X_SMOTE, y_SMOTE = smote.fit_resample(X_train, y_train)\n",
        "\n",
        "# Counting labels\n",
        "sampler_count = [['Original Data', y_train], ['SMOTE', y_SMOTE]]\n",
        "\n",
        "# Print results\n",
        "for i in sampler_count:\n",
        "    print(i[0])\n",
        "    display(val_count(pd.Series(i[1])))"
      ]
    },
    {
      "cell_type": "markdown",
      "metadata": {
        "id": "PNXyHPct7NMA"
      },
      "source": [
        "## Modeling"
      ]
    },
    {
      "cell_type": "markdown",
      "metadata": {
        "id": "NYi9VSmQ7TIw"
      },
      "source": [
        "### Model Fit & Predict"
      ]
    },
    {
      "cell_type": "code",
      "execution_count": 42,
      "metadata": {
        "id": "tBOt5nQN7T0W"
      },
      "outputs": [],
      "source": [
        "# Initialize resampling data\n",
        "resample = [\n",
        "    ('Original', X_train, y_train),\n",
        "    ('SMOTE', X_SMOTE, y_SMOTE)\n",
        "]\n",
        "\n",
        "# Initialize models\n",
        "models = [\n",
        "    ('Logistic Regression', LogisticRegression(random_state=42)),\n",
        "    ('Decision Tree', DecisionTreeClassifier(random_state=42)),\n",
        "    ('Random Forest', RandomForestClassifier(random_state=42)),\n",
        "    ('XGBoost', XGBClassifier(random_state=42))\n",
        "]\n",
        "\n",
        "# Evaluate models\n",
        "results = []\n",
        "\n",
        "# Fit & Predict\n",
        "for r_name, X, y in resample:\n",
        "    for m_name, model in models:\n",
        "        model.fit(X, y)\n",
        "        y_pred = model.predict(X_test)\n",
        "        accuracy = accuracy_score(y_test, y_pred)\n",
        "        precision = precision_score(y_test, y_pred)\n",
        "        recall = recall_score(y_test, y_pred)\n",
        "        f1 = f1_score(y_test, y_pred)\n",
        "        results.append((r_name+' - '+m_name, accuracy, precision, recall, f1))"
      ]
    },
    {
      "cell_type": "markdown",
      "metadata": {
        "id": "qP6KCbMV2Rh1"
      },
      "source": [
        "## Evaluation"
      ]
    },
    {
      "cell_type": "code",
      "execution_count": 43,
      "metadata": {
        "colab": {
          "base_uri": "https://localhost:8080/",
          "height": 300
        },
        "id": "KSpUtTej2WSb",
        "outputId": "03674371-8fc2-442e-9bc7-5a1fd97795ec"
      },
      "outputs": [
        {
          "data": {
            "text/html": [
              "\n",
              "\n",
              "  <div id=\"df-14d57b1f-b166-44e6-ae40-cba9b78c150b\">\n",
              "    <div class=\"colab-df-container\">\n",
              "      <div>\n",
              "<style scoped>\n",
              "    .dataframe tbody tr th:only-of-type {\n",
              "        vertical-align: middle;\n",
              "    }\n",
              "\n",
              "    .dataframe tbody tr th {\n",
              "        vertical-align: top;\n",
              "    }\n",
              "\n",
              "    .dataframe thead th {\n",
              "        text-align: right;\n",
              "    }\n",
              "</style>\n",
              "<table border=\"1\" class=\"dataframe\">\n",
              "  <thead>\n",
              "    <tr style=\"text-align: right;\">\n",
              "      <th></th>\n",
              "      <th>Accuracy</th>\n",
              "      <th>Precision</th>\n",
              "      <th>Recall</th>\n",
              "      <th>F1 Score</th>\n",
              "    </tr>\n",
              "  </thead>\n",
              "  <tbody>\n",
              "    <tr>\n",
              "      <th>SMOTE - Decision Tree</th>\n",
              "      <td>1.000000</td>\n",
              "      <td>1.000000</td>\n",
              "      <td>1.000000</td>\n",
              "      <td>1.000000</td>\n",
              "    </tr>\n",
              "    <tr>\n",
              "      <th>SMOTE - Random Forest</th>\n",
              "      <td>1.000000</td>\n",
              "      <td>1.000000</td>\n",
              "      <td>1.000000</td>\n",
              "      <td>1.000000</td>\n",
              "    </tr>\n",
              "    <tr>\n",
              "      <th>SMOTE - XGBoost</th>\n",
              "      <td>0.993976</td>\n",
              "      <td>0.993243</td>\n",
              "      <td>1.000000</td>\n",
              "      <td>0.996610</td>\n",
              "    </tr>\n",
              "    <tr>\n",
              "      <th>Original - Random Forest</th>\n",
              "      <td>0.987952</td>\n",
              "      <td>0.986577</td>\n",
              "      <td>1.000000</td>\n",
              "      <td>0.993243</td>\n",
              "    </tr>\n",
              "    <tr>\n",
              "      <th>Original - XGBoost</th>\n",
              "      <td>0.987952</td>\n",
              "      <td>0.986577</td>\n",
              "      <td>1.000000</td>\n",
              "      <td>0.993243</td>\n",
              "    </tr>\n",
              "    <tr>\n",
              "      <th>Original - Decision Tree</th>\n",
              "      <td>0.987952</td>\n",
              "      <td>0.993197</td>\n",
              "      <td>0.993197</td>\n",
              "      <td>0.993197</td>\n",
              "    </tr>\n",
              "    <tr>\n",
              "      <th>SMOTE - Logistic Regression</th>\n",
              "      <td>0.963855</td>\n",
              "      <td>0.986207</td>\n",
              "      <td>0.972789</td>\n",
              "      <td>0.979452</td>\n",
              "    </tr>\n",
              "    <tr>\n",
              "      <th>Original - Logistic Regression</th>\n",
              "      <td>0.939759</td>\n",
              "      <td>0.936306</td>\n",
              "      <td>1.000000</td>\n",
              "      <td>0.967105</td>\n",
              "    </tr>\n",
              "  </tbody>\n",
              "</table>\n",
              "</div>\n",
              "      <button class=\"colab-df-convert\" onclick=\"convertToInteractive('df-14d57b1f-b166-44e6-ae40-cba9b78c150b')\"\n",
              "              title=\"Convert this dataframe to an interactive table.\"\n",
              "              style=\"display:none;\">\n",
              "\n",
              "  <svg xmlns=\"http://www.w3.org/2000/svg\" height=\"24px\"viewBox=\"0 0 24 24\"\n",
              "       width=\"24px\">\n",
              "    <path d=\"M0 0h24v24H0V0z\" fill=\"none\"/>\n",
              "    <path d=\"M18.56 5.44l.94 2.06.94-2.06 2.06-.94-2.06-.94-.94-2.06-.94 2.06-2.06.94zm-11 1L8.5 8.5l.94-2.06 2.06-.94-2.06-.94L8.5 2.5l-.94 2.06-2.06.94zm10 10l.94 2.06.94-2.06 2.06-.94-2.06-.94-.94-2.06-.94 2.06-2.06.94z\"/><path d=\"M17.41 7.96l-1.37-1.37c-.4-.4-.92-.59-1.43-.59-.52 0-1.04.2-1.43.59L10.3 9.45l-7.72 7.72c-.78.78-.78 2.05 0 2.83L4 21.41c.39.39.9.59 1.41.59.51 0 1.02-.2 1.41-.59l7.78-7.78 2.81-2.81c.8-.78.8-2.07 0-2.86zM5.41 20L4 18.59l7.72-7.72 1.47 1.35L5.41 20z\"/>\n",
              "  </svg>\n",
              "      </button>\n",
              "\n",
              "\n",
              "\n",
              "    <div id=\"df-db695d93-6cb7-46e9-baed-37324be01cb8\">\n",
              "      <button class=\"colab-df-quickchart\" onclick=\"quickchart('df-db695d93-6cb7-46e9-baed-37324be01cb8')\"\n",
              "              title=\"Suggest charts.\"\n",
              "              style=\"display:none;\">\n",
              "\n",
              "<svg xmlns=\"http://www.w3.org/2000/svg\" height=\"24px\"viewBox=\"0 0 24 24\"\n",
              "     width=\"24px\">\n",
              "    <g>\n",
              "        <path d=\"M19 3H5c-1.1 0-2 .9-2 2v14c0 1.1.9 2 2 2h14c1.1 0 2-.9 2-2V5c0-1.1-.9-2-2-2zM9 17H7v-7h2v7zm4 0h-2V7h2v10zm4 0h-2v-4h2v4z\"/>\n",
              "    </g>\n",
              "</svg>\n",
              "      </button>\n",
              "    </div>\n",
              "\n",
              "<style>\n",
              "  .colab-df-quickchart {\n",
              "    background-color: #E8F0FE;\n",
              "    border: none;\n",
              "    border-radius: 50%;\n",
              "    cursor: pointer;\n",
              "    display: none;\n",
              "    fill: #1967D2;\n",
              "    height: 32px;\n",
              "    padding: 0 0 0 0;\n",
              "    width: 32px;\n",
              "  }\n",
              "\n",
              "  .colab-df-quickchart:hover {\n",
              "    background-color: #E2EBFA;\n",
              "    box-shadow: 0px 1px 2px rgba(60, 64, 67, 0.3), 0px 1px 3px 1px rgba(60, 64, 67, 0.15);\n",
              "    fill: #174EA6;\n",
              "  }\n",
              "\n",
              "  [theme=dark] .colab-df-quickchart {\n",
              "    background-color: #3B4455;\n",
              "    fill: #D2E3FC;\n",
              "  }\n",
              "\n",
              "  [theme=dark] .colab-df-quickchart:hover {\n",
              "    background-color: #434B5C;\n",
              "    box-shadow: 0px 1px 3px 1px rgba(0, 0, 0, 0.15);\n",
              "    filter: drop-shadow(0px 1px 2px rgba(0, 0, 0, 0.3));\n",
              "    fill: #FFFFFF;\n",
              "  }\n",
              "</style>\n",
              "\n",
              "    <script>\n",
              "      async function quickchart(key) {\n",
              "        const containerElement = document.querySelector('#' + key);\n",
              "        const charts = await google.colab.kernel.invokeFunction(\n",
              "            'suggestCharts', [key], {});\n",
              "      }\n",
              "    </script>\n",
              "\n",
              "      <script>\n",
              "\n",
              "function displayQuickchartButton(domScope) {\n",
              "  let quickchartButtonEl =\n",
              "    domScope.querySelector('#df-db695d93-6cb7-46e9-baed-37324be01cb8 button.colab-df-quickchart');\n",
              "  quickchartButtonEl.style.display =\n",
              "    google.colab.kernel.accessAllowed ? 'block' : 'none';\n",
              "}\n",
              "\n",
              "        displayQuickchartButton(document);\n",
              "      </script>\n",
              "      <style>\n",
              "    .colab-df-container {\n",
              "      display:flex;\n",
              "      flex-wrap:wrap;\n",
              "      gap: 12px;\n",
              "    }\n",
              "\n",
              "    .colab-df-convert {\n",
              "      background-color: #E8F0FE;\n",
              "      border: none;\n",
              "      border-radius: 50%;\n",
              "      cursor: pointer;\n",
              "      display: none;\n",
              "      fill: #1967D2;\n",
              "      height: 32px;\n",
              "      padding: 0 0 0 0;\n",
              "      width: 32px;\n",
              "    }\n",
              "\n",
              "    .colab-df-convert:hover {\n",
              "      background-color: #E2EBFA;\n",
              "      box-shadow: 0px 1px 2px rgba(60, 64, 67, 0.3), 0px 1px 3px 1px rgba(60, 64, 67, 0.15);\n",
              "      fill: #174EA6;\n",
              "    }\n",
              "\n",
              "    [theme=dark] .colab-df-convert {\n",
              "      background-color: #3B4455;\n",
              "      fill: #D2E3FC;\n",
              "    }\n",
              "\n",
              "    [theme=dark] .colab-df-convert:hover {\n",
              "      background-color: #434B5C;\n",
              "      box-shadow: 0px 1px 3px 1px rgba(0, 0, 0, 0.15);\n",
              "      filter: drop-shadow(0px 1px 2px rgba(0, 0, 0, 0.3));\n",
              "      fill: #FFFFFF;\n",
              "    }\n",
              "  </style>\n",
              "\n",
              "      <script>\n",
              "        const buttonEl =\n",
              "          document.querySelector('#df-14d57b1f-b166-44e6-ae40-cba9b78c150b button.colab-df-convert');\n",
              "        buttonEl.style.display =\n",
              "          google.colab.kernel.accessAllowed ? 'block' : 'none';\n",
              "\n",
              "        async function convertToInteractive(key) {\n",
              "          const element = document.querySelector('#df-14d57b1f-b166-44e6-ae40-cba9b78c150b');\n",
              "          const dataTable =\n",
              "            await google.colab.kernel.invokeFunction('convertToInteractive',\n",
              "                                                     [key], {});\n",
              "          if (!dataTable) return;\n",
              "\n",
              "          const docLinkHtml = 'Like what you see? Visit the ' +\n",
              "            '<a target=\"_blank\" href=https://colab.research.google.com/notebooks/data_table.ipynb>data table notebook</a>'\n",
              "            + ' to learn more about interactive tables.';\n",
              "          element.innerHTML = '';\n",
              "          dataTable['output_type'] = 'display_data';\n",
              "          await google.colab.output.renderOutput(dataTable, element);\n",
              "          const docLink = document.createElement('div');\n",
              "          docLink.innerHTML = docLinkHtml;\n",
              "          element.appendChild(docLink);\n",
              "        }\n",
              "      </script>\n",
              "    </div>\n",
              "  </div>\n"
            ],
            "text/plain": [
              "                                Accuracy  Precision    Recall  F1 Score\n",
              "SMOTE - Decision Tree           1.000000   1.000000  1.000000  1.000000\n",
              "SMOTE - Random Forest           1.000000   1.000000  1.000000  1.000000\n",
              "SMOTE - XGBoost                 0.993976   0.993243  1.000000  0.996610\n",
              "Original - Random Forest        0.987952   0.986577  1.000000  0.993243\n",
              "Original - XGBoost              0.987952   0.986577  1.000000  0.993243\n",
              "Original - Decision Tree        0.987952   0.993197  0.993197  0.993197\n",
              "SMOTE - Logistic Regression     0.963855   0.986207  0.972789  0.979452\n",
              "Original - Logistic Regression  0.939759   0.936306  1.000000  0.967105"
            ]
          },
          "execution_count": 43,
          "metadata": {},
          "output_type": "execute_result"
        }
      ],
      "source": [
        "# Create comparison table\n",
        "comparison = pd.DataFrame(results, columns=['Model', 'Accuracy','Precision',\n",
        "                                            'Recall', 'F1 Score'])\n",
        "comparison = comparison.set_index(['Model'])\n",
        "comparison.index.name = None\n",
        "\n",
        "# Print sorted comparison table\n",
        "comparison.reindex(comparison.mean(axis=1).sort_values(ascending=False).index)"
      ]
    }
  ],
  "metadata": {
    "colab": {
      "provenance": []
    },
    "kernelspec": {
      "display_name": "Python 3",
      "name": "python3"
    },
    "language_info": {
      "name": "python"
    }
  },
  "nbformat": 4,
  "nbformat_minor": 0
}
